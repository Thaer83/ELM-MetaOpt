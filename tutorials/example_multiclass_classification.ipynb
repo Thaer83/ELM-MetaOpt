{
 "cells": [
  {
   "cell_type": "markdown",
   "metadata": {
    "collapsed": true,
    "pycharm": {
     "name": "#%%\n"
    }
   },
   "source": [
    "### Link: https://www.kaggle.com/code/gideon94/multiclass-classification-svm-knn-dt-comparison"
   ]
  },
  {
   "cell_type": "code",
   "execution_count": null,
   "outputs": [],
   "source": [
    "import numpy as np \n",
    "import pandas as pd\n",
    "import matplotlib.pyplot as plt"
   ],
   "metadata": {
    "collapsed": false,
    "pycharm": {
     "name": "#%%\n"
    }
   }
  },
  {
   "cell_type": "code",
   "execution_count": null,
   "outputs": [],
   "source": [
    "#Loading data\n",
    "hazel_df = pd.read_csv(\"hazelnuts.txt\", sep=\"\\t\",header=None)\n",
    "hazel_df = hazel_df.transpose()\n",
    "hazel_df.columns = [\"sample_id\",\"length\",\"width\",\"thickness\",\"surface_area\",\"mass\",\"compactness\",\n",
    "                    \"hardness\",\"shell_top_radius\",\"water_content\",\"carbohydrate_content\",\"variety\"]\n",
    "hazel_df.head()"
   ],
   "metadata": {
    "collapsed": false,
    "pycharm": {
     "name": "#%%\n"
    }
   }
  },
  {
   "cell_type": "code",
   "execution_count": null,
   "outputs": [],
   "source": [
    "#Feature selection\n",
    "all_features = hazel_df.drop([\"variety\",\"sample_id\"], axis=1) \n",
    "target_feature = hazel_df[\"variety\"]\n",
    "all_features.head()"
   ],
   "metadata": {
    "collapsed": false,
    "pycharm": {
     "name": "#%%\n"
    }
   }
  },
  {
   "cell_type": "code",
   "execution_count": null,
   "outputs": [],
   "source": [
    "X =  all_features.values.astype(float) #returns a numpy array of type float\n",
    "y = target_feature.values"
   ],
   "metadata": {
    "collapsed": false,
    "pycharm": {
     "name": "#%%\n"
    }
   }
  },
  {
   "cell_type": "code",
   "execution_count": null,
   "outputs": [],
   "source": [
    "from intelelm import Data, ElmClassifier, MhaElmClassifier"
   ],
   "metadata": {
    "collapsed": false,
    "pycharm": {
     "name": "#%%\n"
    }
   }
  },
  {
   "cell_type": "code",
   "execution_count": null,
   "outputs": [],
   "source": [
    "data = Data(X, y)\n",
    "data.split_train_test(test_size=0.2, shuffle=True, random_state=100, inplace=True)"
   ],
   "metadata": {
    "collapsed": false,
    "pycharm": {
     "name": "#%%\n"
    }
   }
  },
  {
   "cell_type": "code",
   "execution_count": null,
   "outputs": [],
   "source": [
    "data.X_train, scaler_X = data.scale(data.X_train, scaling_methods=(\"standard\"))\n",
    "data.X_test = scaler_X.transform(data.X_test)\n",
    "\n",
    "data.y_train, scaler_y = data.encode_label(data.y_train)   # This is for classification problem only\n",
    "data.y_test = scaler_y.transform(data.y_test)"
   ],
   "metadata": {
    "collapsed": false,
    "pycharm": {
     "name": "#%%\n"
    }
   }
  },
  {
   "cell_type": "code",
   "execution_count": null,
   "outputs": [],
   "source": [
    "classifier = ElmClassifier(hidden_size=30, act_name=\"tanh\")\n",
    "classifier.fit(data.X_train, data.y_train)"
   ],
   "metadata": {
    "collapsed": false,
    "pycharm": {
     "name": "#%%\n"
    }
   }
  },
  {
   "cell_type": "code",
   "execution_count": null,
   "outputs": [],
   "source": [
    "y_pred_cls = classifier.predict(data.X_test)\n",
    "y_pred_label = scaler_y.inverse_transform(y_pred_cls)\n",
    "y_test_true = scaler_y.inverse_transform(data.y_test)"
   ],
   "metadata": {
    "collapsed": false,
    "pycharm": {
     "name": "#%%\n"
    }
   }
  },
  {
   "cell_type": "code",
   "execution_count": null,
   "outputs": [],
   "source": [
    "print(y_pred_cls)"
   ],
   "metadata": {
    "collapsed": false,
    "pycharm": {
     "name": "#%%\n"
    }
   }
  },
  {
   "cell_type": "code",
   "execution_count": null,
   "outputs": [],
   "source": [
    "print(data.y_test)"
   ],
   "metadata": {
    "collapsed": false,
    "pycharm": {
     "name": "#%%\n"
    }
   }
  },
  {
   "cell_type": "code",
   "execution_count": null,
   "outputs": [],
   "source": [
    "print(\"Try my evaluate functions\")\n",
    "print(classifier.evaluate(data.y_test, y_pred_cls, list_metrics=(\"AS\", \"F1S\", \"PS\", \"RS\")))"
   ],
   "metadata": {
    "collapsed": false,
    "pycharm": {
     "name": "#%%\n"
    }
   }
  },
  {
   "cell_type": "code",
   "execution_count": null,
   "outputs": [],
   "source": [
    "print(y_test_true)"
   ],
   "metadata": {
    "collapsed": false,
    "pycharm": {
     "name": "#%%\n"
    }
   }
  },
  {
   "cell_type": "code",
   "execution_count": null,
   "outputs": [],
   "source": [
    "print(y_pred_label)"
   ],
   "metadata": {
    "collapsed": false,
    "pycharm": {
     "name": "#%%\n"
    }
   }
  },
  {
   "cell_type": "markdown",
   "source": [
    "## Metaheuristic-based ELM classification"
   ],
   "metadata": {
    "collapsed": false,
    "pycharm": {
     "name": "#%% md\n"
    }
   }
  },
  {
   "cell_type": "code",
   "execution_count": null,
   "outputs": [],
   "source": [
    "opt_paras = {\"name\": \"GA\", \"epoch\": 100, \"pop_size\": 30}\n",
    "model = MhaElmClassifier(hidden_size=20, act_name=\"tanh\", obj_name=\"KLDL\", optimizer=\"BaseGA\", optimizer_paras=opt_paras, verbose=True)\n",
    "model.fit(data.X_train, data.y_train)"
   ],
   "metadata": {
    "collapsed": false,
    "pycharm": {
     "name": "#%%\n"
    }
   }
  },
  {
   "cell_type": "code",
   "execution_count": null,
   "outputs": [],
   "source": [
    "y_pred_cls = model.predict(data.X_test)\n",
    "print(\"Try my evaluate functions\")\n",
    "print(model.evaluate(data.y_test, y_pred_cls, list_metrics=(\"AS\", \"F1S\", \"PS\", \"RS\")))"
   ],
   "metadata": {
    "collapsed": false,
    "pycharm": {
     "name": "#%%\n"
    }
   }
  },
  {
   "cell_type": "markdown",
   "source": [
    "#### So the results of GA-ELM is not better than traditional ELM. \n",
    "We should try more epoch, and different obj_name."
   ],
   "metadata": {
    "collapsed": false,
    "pycharm": {
     "name": "#%% md\n"
    }
   }
  },
  {
   "cell_type": "code",
   "execution_count": null,
   "outputs": [],
   "source": [
    "opt_paras = {\"name\": \"GA\", \"epoch\": 500, \"pop_size\": 30}\n",
    "model = MhaElmClassifier(hidden_size=20, act_name=\"elu\", obj_name=\"F1S\", optimizer=\"BaseGA\", optimizer_paras=opt_paras, verbose=True)\n",
    "model.fit(data.X_train, data.y_train)"
   ],
   "metadata": {
    "collapsed": false,
    "pycharm": {
     "name": "#%%\n"
    }
   }
  },
  {
   "cell_type": "code",
   "execution_count": null,
   "outputs": [],
   "source": [
    "y_pred_cls = model.predict(data.X_test)\n",
    "print(\"Try my evaluate functions\")\n",
    "print(model.evaluate(data.y_test, y_pred_cls, list_metrics=(\"AS\", \"F1S\", \"PS\", \"RS\")))"
   ],
   "metadata": {
    "collapsed": false,
    "pycharm": {
     "name": "#%%\n"
    }
   }
  },
  {
   "cell_type": "markdown",
   "source": [
    "## Wow, amazing results. lol"
   ],
   "metadata": {
    "collapsed": false,
    "pycharm": {
     "name": "#%% md\n"
    }
   }
  },
  {
   "cell_type": "code",
   "execution_count": 5,
   "metadata": {
    "pycharm": {
     "name": "#%%\n"
    }
   },
   "outputs": [
    {
     "data": {
      "text/html": [
       "<div>\n",
       "<style scoped>\n",
       "    .dataframe tbody tr th:only-of-type {\n",
       "        vertical-align: middle;\n",
       "    }\n",
       "\n",
       "    .dataframe tbody tr th {\n",
       "        vertical-align: top;\n",
       "    }\n",
       "\n",
       "    .dataframe thead th {\n",
       "        text-align: right;\n",
       "    }\n",
       "</style>\n",
       "<table border=\"1\" class=\"dataframe\">\n",
       "  <thead>\n",
       "    <tr style=\"text-align: right;\">\n",
       "      <th></th>\n",
       "      <th>sample_id</th>\n",
       "      <th>length</th>\n",
       "      <th>width</th>\n",
       "      <th>thickness</th>\n",
       "      <th>surface_area</th>\n",
       "      <th>mass</th>\n",
       "      <th>compactness</th>\n",
       "      <th>hardness</th>\n",
       "      <th>shell_top_radius</th>\n",
       "      <th>water_content</th>\n",
       "      <th>carbohydrate_content</th>\n",
       "      <th>variety</th>\n",
       "    </tr>\n",
       "  </thead>\n",
       "  <tbody>\n",
       "    <tr>\n",
       "      <th>0</th>\n",
       "      <td>71</td>\n",
       "      <td>11.67</td>\n",
       "      <td>12.8025</td>\n",
       "      <td>8.055074738</td>\n",
       "      <td>34.65</td>\n",
       "      <td>1375.5</td>\n",
       "      <td>0.93005</td>\n",
       "      <td>19.145</td>\n",
       "      <td>4.4604</td>\n",
       "      <td>0.048667685</td>\n",
       "      <td>0.175</td>\n",
       "      <td>c_avellana</td>\n",
       "    </tr>\n",
       "    <tr>\n",
       "      <th>1</th>\n",
       "      <td>72</td>\n",
       "      <td>13.86</td>\n",
       "      <td>13.0995</td>\n",
       "      <td>7.349906812</td>\n",
       "      <td>38.1</td>\n",
       "      <td>1439.55</td>\n",
       "      <td>0.93401</td>\n",
       "      <td>8.78</td>\n",
       "      <td>4.7844</td>\n",
       "      <td>0.048826089</td>\n",
       "      <td>0.167</td>\n",
       "      <td>c_avellana</td>\n",
       "    </tr>\n",
       "    <tr>\n",
       "      <th>2</th>\n",
       "      <td>1</td>\n",
       "      <td>20.53</td>\n",
       "      <td>15.5925</td>\n",
       "      <td>9.565426582</td>\n",
       "      <td>49.89</td>\n",
       "      <td>1623.3</td>\n",
       "      <td>0.96217</td>\n",
       "      <td>5.12</td>\n",
       "      <td>5.2893</td>\n",
       "      <td>0.049521325</td>\n",
       "      <td>0.174</td>\n",
       "      <td>c_americana</td>\n",
       "    </tr>\n",
       "    <tr>\n",
       "      <th>3</th>\n",
       "      <td>73</td>\n",
       "      <td>14.13</td>\n",
       "      <td>12.222</td>\n",
       "      <td>7.182948645</td>\n",
       "      <td>35.43</td>\n",
       "      <td>1412.25</td>\n",
       "      <td>0.90178</td>\n",
       "      <td>13.694</td>\n",
       "      <td>4.8168</td>\n",
       "      <td>0.049594663</td>\n",
       "      <td>0.167</td>\n",
       "      <td>c_avellana</td>\n",
       "    </tr>\n",
       "    <tr>\n",
       "      <th>4</th>\n",
       "      <td>2</td>\n",
       "      <td>15.85</td>\n",
       "      <td>14.724</td>\n",
       "      <td>8.622661318</td>\n",
       "      <td>43.29</td>\n",
       "      <td>1512</td>\n",
       "      <td>0.96261</td>\n",
       "      <td>10.925</td>\n",
       "      <td>4.6296</td>\n",
       "      <td>0.050384315</td>\n",
       "      <td>0.173</td>\n",
       "      <td>c_americana</td>\n",
       "    </tr>\n",
       "  </tbody>\n",
       "</table>\n",
       "</div>"
      ],
      "text/plain": [
       "  sample_id length    width    thickness surface_area     mass compactness  \\\n",
       "0        71  11.67  12.8025  8.055074738        34.65   1375.5     0.93005   \n",
       "1        72  13.86  13.0995  7.349906812         38.1  1439.55     0.93401   \n",
       "2         1  20.53  15.5925  9.565426582        49.89   1623.3     0.96217   \n",
       "3        73  14.13   12.222  7.182948645        35.43  1412.25     0.90178   \n",
       "4         2  15.85   14.724  8.622661318        43.29     1512     0.96261   \n",
       "\n",
       "  hardness shell_top_radius water_content carbohydrate_content      variety  \n",
       "0   19.145           4.4604   0.048667685                0.175   c_avellana  \n",
       "1     8.78           4.7844   0.048826089                0.167   c_avellana  \n",
       "2     5.12           5.2893   0.049521325                0.174  c_americana  \n",
       "3   13.694           4.8168   0.049594663                0.167   c_avellana  \n",
       "4   10.925           4.6296   0.050384315                0.173  c_americana  "
      ]
     },
     "execution_count": 5,
     "metadata": {},
     "output_type": "execute_result"
    }
   ],
   "source": [
    "#Loading data\n",
    "hazel_df = pd.read_csv(\"hazelnuts.txt\", sep=\"\\t\",header=None)\n",
    "hazel_df = hazel_df.transpose()\n",
    "hazel_df.columns = [\"sample_id\",\"length\",\"width\",\"thickness\",\"surface_area\",\"mass\",\"compactness\",\n",
    "                    \"hardness\",\"shell_top_radius\",\"water_content\",\"carbohydrate_content\",\"variety\"]\n",
    "hazel_df.head()"
   ]
  },
  {
   "cell_type": "code",
   "execution_count": 6,
   "metadata": {},
   "outputs": [
    {
     "data": {
      "text/html": [
       "<div>\n",
       "<style scoped>\n",
       "    .dataframe tbody tr th:only-of-type {\n",
       "        vertical-align: middle;\n",
       "    }\n",
       "\n",
       "    .dataframe tbody tr th {\n",
       "        vertical-align: top;\n",
       "    }\n",
       "\n",
       "    .dataframe thead th {\n",
       "        text-align: right;\n",
       "    }\n",
       "</style>\n",
       "<table border=\"1\" class=\"dataframe\">\n",
       "  <thead>\n",
       "    <tr style=\"text-align: right;\">\n",
       "      <th></th>\n",
       "      <th>length</th>\n",
       "      <th>width</th>\n",
       "      <th>thickness</th>\n",
       "      <th>surface_area</th>\n",
       "      <th>mass</th>\n",
       "      <th>compactness</th>\n",
       "      <th>hardness</th>\n",
       "      <th>shell_top_radius</th>\n",
       "      <th>water_content</th>\n",
       "      <th>carbohydrate_content</th>\n",
       "    </tr>\n",
       "  </thead>\n",
       "  <tbody>\n",
       "    <tr>\n",
       "      <th>0</th>\n",
       "      <td>11.67</td>\n",
       "      <td>12.8025</td>\n",
       "      <td>8.055074738</td>\n",
       "      <td>34.65</td>\n",
       "      <td>1375.5</td>\n",
       "      <td>0.93005</td>\n",
       "      <td>19.145</td>\n",
       "      <td>4.4604</td>\n",
       "      <td>0.048667685</td>\n",
       "      <td>0.175</td>\n",
       "    </tr>\n",
       "    <tr>\n",
       "      <th>1</th>\n",
       "      <td>13.86</td>\n",
       "      <td>13.0995</td>\n",
       "      <td>7.349906812</td>\n",
       "      <td>38.1</td>\n",
       "      <td>1439.55</td>\n",
       "      <td>0.93401</td>\n",
       "      <td>8.78</td>\n",
       "      <td>4.7844</td>\n",
       "      <td>0.048826089</td>\n",
       "      <td>0.167</td>\n",
       "    </tr>\n",
       "    <tr>\n",
       "      <th>2</th>\n",
       "      <td>20.53</td>\n",
       "      <td>15.5925</td>\n",
       "      <td>9.565426582</td>\n",
       "      <td>49.89</td>\n",
       "      <td>1623.3</td>\n",
       "      <td>0.96217</td>\n",
       "      <td>5.12</td>\n",
       "      <td>5.2893</td>\n",
       "      <td>0.049521325</td>\n",
       "      <td>0.174</td>\n",
       "    </tr>\n",
       "    <tr>\n",
       "      <th>3</th>\n",
       "      <td>14.13</td>\n",
       "      <td>12.222</td>\n",
       "      <td>7.182948645</td>\n",
       "      <td>35.43</td>\n",
       "      <td>1412.25</td>\n",
       "      <td>0.90178</td>\n",
       "      <td>13.694</td>\n",
       "      <td>4.8168</td>\n",
       "      <td>0.049594663</td>\n",
       "      <td>0.167</td>\n",
       "    </tr>\n",
       "    <tr>\n",
       "      <th>4</th>\n",
       "      <td>15.85</td>\n",
       "      <td>14.724</td>\n",
       "      <td>8.622661318</td>\n",
       "      <td>43.29</td>\n",
       "      <td>1512</td>\n",
       "      <td>0.96261</td>\n",
       "      <td>10.925</td>\n",
       "      <td>4.6296</td>\n",
       "      <td>0.050384315</td>\n",
       "      <td>0.173</td>\n",
       "    </tr>\n",
       "  </tbody>\n",
       "</table>\n",
       "</div>"
      ],
      "text/plain": [
       "  length    width    thickness surface_area     mass compactness hardness  \\\n",
       "0  11.67  12.8025  8.055074738        34.65   1375.5     0.93005   19.145   \n",
       "1  13.86  13.0995  7.349906812         38.1  1439.55     0.93401     8.78   \n",
       "2  20.53  15.5925  9.565426582        49.89   1623.3     0.96217     5.12   \n",
       "3  14.13   12.222  7.182948645        35.43  1412.25     0.90178   13.694   \n",
       "4  15.85   14.724  8.622661318        43.29     1512     0.96261   10.925   \n",
       "\n",
       "  shell_top_radius water_content carbohydrate_content  \n",
       "0           4.4604   0.048667685                0.175  \n",
       "1           4.7844   0.048826089                0.167  \n",
       "2           5.2893   0.049521325                0.174  \n",
       "3           4.8168   0.049594663                0.167  \n",
       "4           4.6296   0.050384315                0.173  "
      ]
     },
     "execution_count": 6,
     "metadata": {},
     "output_type": "execute_result"
    }
   ],
   "source": [
    "#Feature selection\n",
    "all_features = hazel_df.drop([\"variety\",\"sample_id\"], axis=1) \n",
    "target_feature = hazel_df[\"variety\"]\n",
    "all_features.head()"
   ]
  },
  {
   "cell_type": "code",
   "execution_count": 8,
   "metadata": {},
   "outputs": [],
   "source": [
    "X =  all_features.values.astype(float) #returns a numpy array of type float\n",
    "y = target_feature.values"
   ]
  },
  {
   "cell_type": "code",
   "execution_count": 9,
   "metadata": {},
   "outputs": [],
   "source": [
    "from intelelm import Data, ElmClassifier, MhaElmClassifier"
   ]
  },
  {
   "cell_type": "code",
   "execution_count": 10,
   "metadata": {},
   "outputs": [],
   "source": [
    "data = Data(X, y)\n",
    "data.split_train_test(test_size=0.2, shuffle=True, random_state=100, inplace=True)"
   ]
  },
  {
   "cell_type": "code",
   "execution_count": 11,
   "metadata": {},
   "outputs": [],
   "source": [
    "data.X_train, scaler_X = data.scale(data.X_train, scaling_methods=(\"standard\"))\n",
    "data.X_test = scaler_X.transform(data.X_test)\n",
    "\n",
    "data.y_train, scaler_y = data.encode_label(data.y_train)   # This is for classification problem only\n",
    "data.y_test = scaler_y.transform(data.y_test)"
   ]
  },
  {
   "cell_type": "code",
   "execution_count": 16,
   "metadata": {},
   "outputs": [
    {
     "data": {
      "text/html": [
       "<style>#sk-container-id-3 {color: black;background-color: white;}#sk-container-id-3 pre{padding: 0;}#sk-container-id-3 div.sk-toggleable {background-color: white;}#sk-container-id-3 label.sk-toggleable__label {cursor: pointer;display: block;width: 100%;margin-bottom: 0;padding: 0.3em;box-sizing: border-box;text-align: center;}#sk-container-id-3 label.sk-toggleable__label-arrow:before {content: \"▸\";float: left;margin-right: 0.25em;color: #696969;}#sk-container-id-3 label.sk-toggleable__label-arrow:hover:before {color: black;}#sk-container-id-3 div.sk-estimator:hover label.sk-toggleable__label-arrow:before {color: black;}#sk-container-id-3 div.sk-toggleable__content {max-height: 0;max-width: 0;overflow: hidden;text-align: left;background-color: #f0f8ff;}#sk-container-id-3 div.sk-toggleable__content pre {margin: 0.2em;color: black;border-radius: 0.25em;background-color: #f0f8ff;}#sk-container-id-3 input.sk-toggleable__control:checked~div.sk-toggleable__content {max-height: 200px;max-width: 100%;overflow: auto;}#sk-container-id-3 input.sk-toggleable__control:checked~label.sk-toggleable__label-arrow:before {content: \"▾\";}#sk-container-id-3 div.sk-estimator input.sk-toggleable__control:checked~label.sk-toggleable__label {background-color: #d4ebff;}#sk-container-id-3 div.sk-label input.sk-toggleable__control:checked~label.sk-toggleable__label {background-color: #d4ebff;}#sk-container-id-3 input.sk-hidden--visually {border: 0;clip: rect(1px 1px 1px 1px);clip: rect(1px, 1px, 1px, 1px);height: 1px;margin: -1px;overflow: hidden;padding: 0;position: absolute;width: 1px;}#sk-container-id-3 div.sk-estimator {font-family: monospace;background-color: #f0f8ff;border: 1px dotted black;border-radius: 0.25em;box-sizing: border-box;margin-bottom: 0.5em;}#sk-container-id-3 div.sk-estimator:hover {background-color: #d4ebff;}#sk-container-id-3 div.sk-parallel-item::after {content: \"\";width: 100%;border-bottom: 1px solid gray;flex-grow: 1;}#sk-container-id-3 div.sk-label:hover label.sk-toggleable__label {background-color: #d4ebff;}#sk-container-id-3 div.sk-serial::before {content: \"\";position: absolute;border-left: 1px solid gray;box-sizing: border-box;top: 0;bottom: 0;left: 50%;z-index: 0;}#sk-container-id-3 div.sk-serial {display: flex;flex-direction: column;align-items: center;background-color: white;padding-right: 0.2em;padding-left: 0.2em;position: relative;}#sk-container-id-3 div.sk-item {position: relative;z-index: 1;}#sk-container-id-3 div.sk-parallel {display: flex;align-items: stretch;justify-content: center;background-color: white;position: relative;}#sk-container-id-3 div.sk-item::before, #sk-container-id-3 div.sk-parallel-item::before {content: \"\";position: absolute;border-left: 1px solid gray;box-sizing: border-box;top: 0;bottom: 0;left: 50%;z-index: -1;}#sk-container-id-3 div.sk-parallel-item {display: flex;flex-direction: column;z-index: 1;position: relative;background-color: white;}#sk-container-id-3 div.sk-parallel-item:first-child::after {align-self: flex-end;width: 50%;}#sk-container-id-3 div.sk-parallel-item:last-child::after {align-self: flex-start;width: 50%;}#sk-container-id-3 div.sk-parallel-item:only-child::after {width: 0;}#sk-container-id-3 div.sk-dashed-wrapped {border: 1px dashed gray;margin: 0 0.4em 0.5em 0.4em;box-sizing: border-box;padding-bottom: 0.4em;background-color: white;}#sk-container-id-3 div.sk-label label {font-family: monospace;font-weight: bold;display: inline-block;line-height: 1.2em;}#sk-container-id-3 div.sk-label-container {text-align: center;}#sk-container-id-3 div.sk-container {/* jupyter's `normalize.less` sets `[hidden] { display: none; }` but bootstrap.min.css set `[hidden] { display: none !important; }` so we also need the `!important` here to be able to override the default hidden behavior on the sphinx rendered scikit-learn.org. See: https://github.com/scikit-learn/scikit-learn/issues/21755 */display: inline-block !important;position: relative;}#sk-container-id-3 div.sk-text-repr-fallback {display: none;}</style><div id=\"sk-container-id-3\" class=\"sk-top-container\"><div class=\"sk-text-repr-fallback\"><pre>ElmClassifier(act_name=&#x27;tanh&#x27;, hidden_size=30)</pre><b>In a Jupyter environment, please rerun this cell to show the HTML representation or trust the notebook. <br />On GitHub, the HTML representation is unable to render, please try loading this page with nbviewer.org.</b></div><div class=\"sk-container\" hidden><div class=\"sk-item\"><div class=\"sk-estimator sk-toggleable\"><input class=\"sk-toggleable__control sk-hidden--visually\" id=\"sk-estimator-id-3\" type=\"checkbox\" checked><label for=\"sk-estimator-id-3\" class=\"sk-toggleable__label sk-toggleable__label-arrow\">ElmClassifier</label><div class=\"sk-toggleable__content\"><pre>ElmClassifier(act_name=&#x27;tanh&#x27;, hidden_size=30)</pre></div></div></div></div></div>"
      ],
      "text/plain": [
       "ElmClassifier(act_name='tanh', hidden_size=30)"
      ]
     },
     "execution_count": 16,
     "metadata": {},
     "output_type": "execute_result"
    }
   ],
   "source": [
    "classifier = ElmClassifier(hidden_size=30, act_name=\"tanh\")\n",
    "classifier.fit(data.X_train, data.y_train)"
   ]
  },
  {
   "cell_type": "code",
   "execution_count": 18,
   "metadata": {},
   "outputs": [],
   "source": [
    "y_pred_cls = classifier.predict(data.X_test)\n",
    "y_pred_label = scaler_y.inverse_transform(y_pred_cls)\n",
    "y_test_true = scaler_y.inverse_transform(data.y_test)"
   ]
  },
  {
   "cell_type": "code",
   "execution_count": 22,
   "metadata": {},
   "outputs": [
    {
     "name": "stdout",
     "output_type": "stream",
     "text": [
      "[1 1 2 1 2 2 1 0 2 1 2 0 2 2 1 1 0 2 1 2 1 1 2 1 1 0 0 0 1 0 1 2 1 1 0 2 0\n",
      " 1 0 0 2]\n"
     ]
    }
   ],
   "source": [
    "print(y_pred_cls)"
   ]
  },
  {
   "cell_type": "code",
   "execution_count": 23,
   "metadata": {},
   "outputs": [
    {
     "name": "stdout",
     "output_type": "stream",
     "text": [
      "[1 1 2 1 2 2 1 0 2 1 2 1 2 2 1 1 0 0 1 2 1 2 2 1 1 0 0 0 1 0 1 2 1 1 0 2 0\n",
      " 1 0 0 2]\n"
     ]
    }
   ],
   "source": [
    "print(data.y_test)"
   ]
  },
  {
   "cell_type": "code",
   "execution_count": 24,
   "metadata": {},
   "outputs": [
    {
     "name": "stdout",
     "output_type": "stream",
     "text": [
      "Try my evaluate functions\n",
      "{'AS': 0.95121951, 'F1S': 0.9244481, 'PS': 0.9244481, 'RS': 0.9244481}\n"
     ]
    }
   ],
   "source": [
    "print(\"Try my evaluate functions\")\n",
    "print(classifier.evaluate(data.y_test, y_pred_cls, list_metrics=(\"AS\", \"F1S\", \"PS\", \"RS\")))"
   ]
  },
  {
   "cell_type": "code",
   "execution_count": 21,
   "metadata": {},
   "outputs": [
    {
     "name": "stdout",
     "output_type": "stream",
     "text": [
      "['c_avellana' 'c_avellana' 'c_cornuta' 'c_avellana' 'c_cornuta'\n",
      " 'c_cornuta' 'c_avellana' 'c_americana' 'c_cornuta' 'c_avellana'\n",
      " 'c_cornuta' 'c_avellana' 'c_cornuta' 'c_cornuta' 'c_avellana'\n",
      " 'c_avellana' 'c_americana' 'c_americana' 'c_avellana' 'c_cornuta'\n",
      " 'c_avellana' 'c_cornuta' 'c_cornuta' 'c_avellana' 'c_avellana'\n",
      " 'c_americana' 'c_americana' 'c_americana' 'c_avellana' 'c_americana'\n",
      " 'c_avellana' 'c_cornuta' 'c_avellana' 'c_avellana' 'c_americana'\n",
      " 'c_cornuta' 'c_americana' 'c_avellana' 'c_americana' 'c_americana'\n",
      " 'c_cornuta']\n"
     ]
    }
   ],
   "source": [
    "print(y_test_true)"
   ]
  },
  {
   "cell_type": "code",
   "execution_count": 25,
   "metadata": {},
   "outputs": [
    {
     "name": "stdout",
     "output_type": "stream",
     "text": [
      "['c_avellana' 'c_avellana' 'c_cornuta' 'c_avellana' 'c_cornuta'\n",
      " 'c_cornuta' 'c_avellana' 'c_americana' 'c_cornuta' 'c_avellana'\n",
      " 'c_cornuta' 'c_americana' 'c_cornuta' 'c_cornuta' 'c_avellana'\n",
      " 'c_avellana' 'c_americana' 'c_cornuta' 'c_avellana' 'c_cornuta'\n",
      " 'c_avellana' 'c_avellana' 'c_cornuta' 'c_avellana' 'c_avellana'\n",
      " 'c_americana' 'c_americana' 'c_americana' 'c_avellana' 'c_americana'\n",
      " 'c_avellana' 'c_cornuta' 'c_avellana' 'c_avellana' 'c_americana'\n",
      " 'c_cornuta' 'c_americana' 'c_avellana' 'c_americana' 'c_americana'\n",
      " 'c_cornuta']\n"
     ]
    }
   ],
   "source": [
    "print(y_pred_label)"
   ]
  },
  {
   "cell_type": "markdown",
   "metadata": {},
   "source": [
    "## Metaheuristic-based ELM classification"
   ]
  },
  {
   "cell_type": "code",
   "execution_count": 27,
   "metadata": {},
   "outputs": [
    {
     "name": "stderr",
     "output_type": "stream",
     "text": [
      "2023/10/18 09:02:58 PM, INFO, mealpy.evolutionary_based.GA.BaseGA [line: 231]: Solving single objective optimization problem.\n",
      "2023/10/18 09:02:59 PM, INFO, mealpy.evolutionary_based.GA.BaseGA [line: 348]: >Problem: P, Epoch: 1, Current best: 0.27292, Global best: 0.27292, Runtime: 0.02235 seconds\n",
      "2023/10/18 09:02:59 PM, INFO, mealpy.evolutionary_based.GA.BaseGA [line: 348]: >Problem: P, Epoch: 2, Current best: 0.20335, Global best: 0.20335, Runtime: 0.02205 seconds\n",
      "2023/10/18 09:02:59 PM, INFO, mealpy.evolutionary_based.GA.BaseGA [line: 348]: >Problem: P, Epoch: 3, Current best: 0.32223, Global best: 0.20335, Runtime: 0.02205 seconds\n",
      "2023/10/18 09:02:59 PM, INFO, mealpy.evolutionary_based.GA.BaseGA [line: 348]: >Problem: P, Epoch: 4, Current best: 0.3827, Global best: 0.20335, Runtime: 0.02250 seconds\n",
      "2023/10/18 09:02:59 PM, INFO, mealpy.evolutionary_based.GA.BaseGA [line: 348]: >Problem: P, Epoch: 5, Current best: 0.32556, Global best: 0.20335, Runtime: 0.02179 seconds\n",
      "2023/10/18 09:02:59 PM, INFO, mealpy.evolutionary_based.GA.BaseGA [line: 348]: >Problem: P, Epoch: 6, Current best: 0.38579, Global best: 0.20335, Runtime: 0.02156 seconds\n",
      "2023/10/18 09:02:59 PM, INFO, mealpy.evolutionary_based.GA.BaseGA [line: 348]: >Problem: P, Epoch: 7, Current best: 0.31864, Global best: 0.20335, Runtime: 0.02223 seconds\n",
      "2023/10/18 09:02:59 PM, INFO, mealpy.evolutionary_based.GA.BaseGA [line: 348]: >Problem: P, Epoch: 8, Current best: 0.30238, Global best: 0.20335, Runtime: 0.02291 seconds\n",
      "2023/10/18 09:02:59 PM, INFO, mealpy.evolutionary_based.GA.BaseGA [line: 348]: >Problem: P, Epoch: 9, Current best: 0.35169, Global best: 0.20335, Runtime: 0.02164 seconds\n",
      "2023/10/18 09:02:59 PM, INFO, mealpy.evolutionary_based.GA.BaseGA [line: 348]: >Problem: P, Epoch: 10, Current best: 0.35548, Global best: 0.20335, Runtime: 0.02260 seconds\n",
      "2023/10/18 09:02:59 PM, INFO, mealpy.evolutionary_based.GA.BaseGA [line: 348]: >Problem: P, Epoch: 11, Current best: 0.35817, Global best: 0.20335, Runtime: 0.02177 seconds\n",
      "2023/10/18 09:02:59 PM, INFO, mealpy.evolutionary_based.GA.BaseGA [line: 348]: >Problem: P, Epoch: 12, Current best: 0.31262, Global best: 0.20335, Runtime: 0.02213 seconds\n",
      "2023/10/18 09:02:59 PM, INFO, mealpy.evolutionary_based.GA.BaseGA [line: 348]: >Problem: P, Epoch: 13, Current best: 0.28385, Global best: 0.20335, Runtime: 0.02302 seconds\n",
      "2023/10/18 09:02:59 PM, INFO, mealpy.evolutionary_based.GA.BaseGA [line: 348]: >Problem: P, Epoch: 14, Current best: 0.30214, Global best: 0.20335, Runtime: 0.02192 seconds\n",
      "2023/10/18 09:02:59 PM, INFO, mealpy.evolutionary_based.GA.BaseGA [line: 348]: >Problem: P, Epoch: 15, Current best: 0.33823, Global best: 0.20335, Runtime: 0.02255 seconds\n",
      "2023/10/18 09:02:59 PM, INFO, mealpy.evolutionary_based.GA.BaseGA [line: 348]: >Problem: P, Epoch: 16, Current best: 0.29799, Global best: 0.20335, Runtime: 0.02679 seconds\n",
      "2023/10/18 09:02:59 PM, INFO, mealpy.evolutionary_based.GA.BaseGA [line: 348]: >Problem: P, Epoch: 17, Current best: 0.33168, Global best: 0.20335, Runtime: 0.02264 seconds\n",
      "2023/10/18 09:02:59 PM, INFO, mealpy.evolutionary_based.GA.BaseGA [line: 348]: >Problem: P, Epoch: 18, Current best: 0.29126, Global best: 0.20335, Runtime: 0.02216 seconds\n",
      "2023/10/18 09:02:59 PM, INFO, mealpy.evolutionary_based.GA.BaseGA [line: 348]: >Problem: P, Epoch: 19, Current best: 0.34394, Global best: 0.20335, Runtime: 0.02177 seconds\n",
      "2023/10/18 09:02:59 PM, INFO, mealpy.evolutionary_based.GA.BaseGA [line: 348]: >Problem: P, Epoch: 20, Current best: 0.31526, Global best: 0.20335, Runtime: 0.02256 seconds\n",
      "2023/10/18 09:02:59 PM, INFO, mealpy.evolutionary_based.GA.BaseGA [line: 348]: >Problem: P, Epoch: 21, Current best: 0.29247, Global best: 0.20335, Runtime: 0.02143 seconds\n",
      "2023/10/18 09:02:59 PM, INFO, mealpy.evolutionary_based.GA.BaseGA [line: 348]: >Problem: P, Epoch: 22, Current best: 0.30857, Global best: 0.20335, Runtime: 0.02192 seconds\n",
      "2023/10/18 09:02:59 PM, INFO, mealpy.evolutionary_based.GA.BaseGA [line: 348]: >Problem: P, Epoch: 23, Current best: 0.32505, Global best: 0.20335, Runtime: 0.02144 seconds\n",
      "2023/10/18 09:02:59 PM, INFO, mealpy.evolutionary_based.GA.BaseGA [line: 348]: >Problem: P, Epoch: 24, Current best: 0.30244, Global best: 0.20335, Runtime: 0.02166 seconds\n",
      "2023/10/18 09:02:59 PM, INFO, mealpy.evolutionary_based.GA.BaseGA [line: 348]: >Problem: P, Epoch: 25, Current best: 0.29925, Global best: 0.20335, Runtime: 0.02208 seconds\n",
      "2023/10/18 09:02:59 PM, INFO, mealpy.evolutionary_based.GA.BaseGA [line: 348]: >Problem: P, Epoch: 26, Current best: 0.30616, Global best: 0.20335, Runtime: 0.02219 seconds\n",
      "2023/10/18 09:02:59 PM, INFO, mealpy.evolutionary_based.GA.BaseGA [line: 348]: >Problem: P, Epoch: 27, Current best: 0.28243, Global best: 0.20335, Runtime: 0.02178 seconds\n",
      "2023/10/18 09:02:59 PM, INFO, mealpy.evolutionary_based.GA.BaseGA [line: 348]: >Problem: P, Epoch: 28, Current best: 0.30002, Global best: 0.20335, Runtime: 0.02180 seconds\n",
      "2023/10/18 09:02:59 PM, INFO, mealpy.evolutionary_based.GA.BaseGA [line: 348]: >Problem: P, Epoch: 29, Current best: 0.30561, Global best: 0.20335, Runtime: 0.02198 seconds\n",
      "2023/10/18 09:02:59 PM, INFO, mealpy.evolutionary_based.GA.BaseGA [line: 348]: >Problem: P, Epoch: 30, Current best: 0.28853, Global best: 0.20335, Runtime: 0.02167 seconds\n",
      "2023/10/18 09:02:59 PM, INFO, mealpy.evolutionary_based.GA.BaseGA [line: 348]: >Problem: P, Epoch: 31, Current best: 0.25356, Global best: 0.20335, Runtime: 0.02343 seconds\n",
      "2023/10/18 09:02:59 PM, INFO, mealpy.evolutionary_based.GA.BaseGA [line: 348]: >Problem: P, Epoch: 32, Current best: 0.26209, Global best: 0.20335, Runtime: 0.02151 seconds\n",
      "2023/10/18 09:02:59 PM, INFO, mealpy.evolutionary_based.GA.BaseGA [line: 348]: >Problem: P, Epoch: 33, Current best: 0.24912, Global best: 0.20335, Runtime: 0.02198 seconds\n",
      "2023/10/18 09:02:59 PM, INFO, mealpy.evolutionary_based.GA.BaseGA [line: 348]: >Problem: P, Epoch: 34, Current best: 0.25035, Global best: 0.20335, Runtime: 0.02213 seconds\n",
      "2023/10/18 09:02:59 PM, INFO, mealpy.evolutionary_based.GA.BaseGA [line: 348]: >Problem: P, Epoch: 35, Current best: 0.27208, Global best: 0.20335, Runtime: 0.02469 seconds\n",
      "2023/10/18 09:02:59 PM, INFO, mealpy.evolutionary_based.GA.BaseGA [line: 348]: >Problem: P, Epoch: 36, Current best: 0.27257, Global best: 0.20335, Runtime: 0.02260 seconds\n",
      "2023/10/18 09:02:59 PM, INFO, mealpy.evolutionary_based.GA.BaseGA [line: 348]: >Problem: P, Epoch: 37, Current best: 0.2421, Global best: 0.20335, Runtime: 0.02326 seconds\n",
      "2023/10/18 09:02:59 PM, INFO, mealpy.evolutionary_based.GA.BaseGA [line: 348]: >Problem: P, Epoch: 38, Current best: 0.22105, Global best: 0.20335, Runtime: 0.02374 seconds\n",
      "2023/10/18 09:02:59 PM, INFO, mealpy.evolutionary_based.GA.BaseGA [line: 348]: >Problem: P, Epoch: 39, Current best: 0.24915, Global best: 0.20335, Runtime: 0.02382 seconds\n",
      "2023/10/18 09:02:59 PM, INFO, mealpy.evolutionary_based.GA.BaseGA [line: 348]: >Problem: P, Epoch: 40, Current best: 0.22597, Global best: 0.20335, Runtime: 0.02306 seconds\n",
      "2023/10/18 09:02:59 PM, INFO, mealpy.evolutionary_based.GA.BaseGA [line: 348]: >Problem: P, Epoch: 41, Current best: 0.24598, Global best: 0.20335, Runtime: 0.02313 seconds\n",
      "2023/10/18 09:02:59 PM, INFO, mealpy.evolutionary_based.GA.BaseGA [line: 348]: >Problem: P, Epoch: 42, Current best: 0.23739, Global best: 0.20335, Runtime: 0.02509 seconds\n",
      "2023/10/18 09:03:00 PM, INFO, mealpy.evolutionary_based.GA.BaseGA [line: 348]: >Problem: P, Epoch: 43, Current best: 0.2541, Global best: 0.20335, Runtime: 0.02905 seconds\n",
      "2023/10/18 09:03:00 PM, INFO, mealpy.evolutionary_based.GA.BaseGA [line: 348]: >Problem: P, Epoch: 44, Current best: 0.24251, Global best: 0.20335, Runtime: 0.02639 seconds\n",
      "2023/10/18 09:03:00 PM, INFO, mealpy.evolutionary_based.GA.BaseGA [line: 348]: >Problem: P, Epoch: 45, Current best: 0.24331, Global best: 0.20335, Runtime: 0.02435 seconds\n",
      "2023/10/18 09:03:00 PM, INFO, mealpy.evolutionary_based.GA.BaseGA [line: 348]: >Problem: P, Epoch: 46, Current best: 0.25471, Global best: 0.20335, Runtime: 0.02245 seconds\n",
      "2023/10/18 09:03:00 PM, INFO, mealpy.evolutionary_based.GA.BaseGA [line: 348]: >Problem: P, Epoch: 47, Current best: 0.232, Global best: 0.20335, Runtime: 0.02268 seconds\n"
     ]
    },
    {
     "name": "stderr",
     "output_type": "stream",
     "text": [
      "2023/10/18 09:03:00 PM, INFO, mealpy.evolutionary_based.GA.BaseGA [line: 348]: >Problem: P, Epoch: 48, Current best: 0.24316, Global best: 0.20335, Runtime: 0.02193 seconds\n",
      "2023/10/18 09:03:00 PM, INFO, mealpy.evolutionary_based.GA.BaseGA [line: 348]: >Problem: P, Epoch: 49, Current best: 0.23374, Global best: 0.20335, Runtime: 0.02161 seconds\n",
      "2023/10/18 09:03:00 PM, INFO, mealpy.evolutionary_based.GA.BaseGA [line: 348]: >Problem: P, Epoch: 50, Current best: 0.22836, Global best: 0.20335, Runtime: 0.02335 seconds\n",
      "2023/10/18 09:03:00 PM, INFO, mealpy.evolutionary_based.GA.BaseGA [line: 348]: >Problem: P, Epoch: 51, Current best: 0.24154, Global best: 0.20335, Runtime: 0.02349 seconds\n",
      "2023/10/18 09:03:00 PM, INFO, mealpy.evolutionary_based.GA.BaseGA [line: 348]: >Problem: P, Epoch: 52, Current best: 0.21092, Global best: 0.20335, Runtime: 0.02242 seconds\n",
      "2023/10/18 09:03:00 PM, INFO, mealpy.evolutionary_based.GA.BaseGA [line: 348]: >Problem: P, Epoch: 53, Current best: 0.21154, Global best: 0.20335, Runtime: 0.02180 seconds\n",
      "2023/10/18 09:03:00 PM, INFO, mealpy.evolutionary_based.GA.BaseGA [line: 348]: >Problem: P, Epoch: 54, Current best: 0.22028, Global best: 0.20335, Runtime: 0.02215 seconds\n",
      "2023/10/18 09:03:00 PM, INFO, mealpy.evolutionary_based.GA.BaseGA [line: 348]: >Problem: P, Epoch: 55, Current best: 0.21978, Global best: 0.20335, Runtime: 0.02302 seconds\n",
      "2023/10/18 09:03:00 PM, INFO, mealpy.evolutionary_based.GA.BaseGA [line: 348]: >Problem: P, Epoch: 56, Current best: 0.21015, Global best: 0.20335, Runtime: 0.02486 seconds\n",
      "2023/10/18 09:03:00 PM, INFO, mealpy.evolutionary_based.GA.BaseGA [line: 348]: >Problem: P, Epoch: 57, Current best: 0.20551, Global best: 0.20335, Runtime: 0.02497 seconds\n",
      "2023/10/18 09:03:00 PM, INFO, mealpy.evolutionary_based.GA.BaseGA [line: 348]: >Problem: P, Epoch: 58, Current best: 0.19969, Global best: 0.19969, Runtime: 0.02336 seconds\n",
      "2023/10/18 09:03:00 PM, INFO, mealpy.evolutionary_based.GA.BaseGA [line: 348]: >Problem: P, Epoch: 59, Current best: 0.19164, Global best: 0.19164, Runtime: 0.02499 seconds\n",
      "2023/10/18 09:03:00 PM, INFO, mealpy.evolutionary_based.GA.BaseGA [line: 348]: >Problem: P, Epoch: 60, Current best: 0.18353, Global best: 0.18353, Runtime: 0.03162 seconds\n",
      "2023/10/18 09:03:00 PM, INFO, mealpy.evolutionary_based.GA.BaseGA [line: 348]: >Problem: P, Epoch: 61, Current best: 0.18167, Global best: 0.18167, Runtime: 0.02445 seconds\n",
      "2023/10/18 09:03:00 PM, INFO, mealpy.evolutionary_based.GA.BaseGA [line: 348]: >Problem: P, Epoch: 62, Current best: 0.20141, Global best: 0.18167, Runtime: 0.02328 seconds\n",
      "2023/10/18 09:03:00 PM, INFO, mealpy.evolutionary_based.GA.BaseGA [line: 348]: >Problem: P, Epoch: 63, Current best: 0.18282, Global best: 0.18167, Runtime: 0.02385 seconds\n",
      "2023/10/18 09:03:00 PM, INFO, mealpy.evolutionary_based.GA.BaseGA [line: 348]: >Problem: P, Epoch: 64, Current best: 0.19542, Global best: 0.18167, Runtime: 0.02208 seconds\n",
      "2023/10/18 09:03:00 PM, INFO, mealpy.evolutionary_based.GA.BaseGA [line: 348]: >Problem: P, Epoch: 65, Current best: 0.19178, Global best: 0.18167, Runtime: 0.02226 seconds\n",
      "2023/10/18 09:03:00 PM, INFO, mealpy.evolutionary_based.GA.BaseGA [line: 348]: >Problem: P, Epoch: 66, Current best: 0.18707, Global best: 0.18167, Runtime: 0.02174 seconds\n",
      "2023/10/18 09:03:00 PM, INFO, mealpy.evolutionary_based.GA.BaseGA [line: 348]: >Problem: P, Epoch: 67, Current best: 0.18324, Global best: 0.18167, Runtime: 0.02183 seconds\n",
      "2023/10/18 09:03:00 PM, INFO, mealpy.evolutionary_based.GA.BaseGA [line: 348]: >Problem: P, Epoch: 68, Current best: 0.18002, Global best: 0.18002, Runtime: 0.02209 seconds\n",
      "2023/10/18 09:03:00 PM, INFO, mealpy.evolutionary_based.GA.BaseGA [line: 348]: >Problem: P, Epoch: 69, Current best: 0.1632, Global best: 0.1632, Runtime: 0.02190 seconds\n",
      "2023/10/18 09:03:00 PM, INFO, mealpy.evolutionary_based.GA.BaseGA [line: 348]: >Problem: P, Epoch: 70, Current best: 0.16592, Global best: 0.1632, Runtime: 0.02148 seconds\n",
      "2023/10/18 09:03:00 PM, INFO, mealpy.evolutionary_based.GA.BaseGA [line: 348]: >Problem: P, Epoch: 71, Current best: 0.16357, Global best: 0.1632, Runtime: 0.02211 seconds\n",
      "2023/10/18 09:03:00 PM, INFO, mealpy.evolutionary_based.GA.BaseGA [line: 348]: >Problem: P, Epoch: 72, Current best: 0.15428, Global best: 0.15428, Runtime: 0.02240 seconds\n",
      "2023/10/18 09:03:00 PM, INFO, mealpy.evolutionary_based.GA.BaseGA [line: 348]: >Problem: P, Epoch: 73, Current best: 0.14821, Global best: 0.14821, Runtime: 0.02151 seconds\n",
      "2023/10/18 09:03:00 PM, INFO, mealpy.evolutionary_based.GA.BaseGA [line: 348]: >Problem: P, Epoch: 74, Current best: 0.1392, Global best: 0.1392, Runtime: 0.02289 seconds\n",
      "2023/10/18 09:03:00 PM, INFO, mealpy.evolutionary_based.GA.BaseGA [line: 348]: >Problem: P, Epoch: 75, Current best: 0.13464, Global best: 0.13464, Runtime: 0.02170 seconds\n",
      "2023/10/18 09:03:00 PM, INFO, mealpy.evolutionary_based.GA.BaseGA [line: 348]: >Problem: P, Epoch: 76, Current best: 0.13297, Global best: 0.13297, Runtime: 0.02252 seconds\n",
      "2023/10/18 09:03:00 PM, INFO, mealpy.evolutionary_based.GA.BaseGA [line: 348]: >Problem: P, Epoch: 77, Current best: 0.12303, Global best: 0.12303, Runtime: 0.02215 seconds\n",
      "2023/10/18 09:03:00 PM, INFO, mealpy.evolutionary_based.GA.BaseGA [line: 348]: >Problem: P, Epoch: 78, Current best: 0.12702, Global best: 0.12303, Runtime: 0.02129 seconds\n",
      "2023/10/18 09:03:00 PM, INFO, mealpy.evolutionary_based.GA.BaseGA [line: 348]: >Problem: P, Epoch: 79, Current best: 0.12654, Global best: 0.12303, Runtime: 0.02184 seconds\n",
      "2023/10/18 09:03:00 PM, INFO, mealpy.evolutionary_based.GA.BaseGA [line: 348]: >Problem: P, Epoch: 80, Current best: 0.13172, Global best: 0.12303, Runtime: 0.02209 seconds\n",
      "2023/10/18 09:03:00 PM, INFO, mealpy.evolutionary_based.GA.BaseGA [line: 348]: >Problem: P, Epoch: 81, Current best: 0.13081, Global best: 0.12303, Runtime: 0.02187 seconds\n",
      "2023/10/18 09:03:00 PM, INFO, mealpy.evolutionary_based.GA.BaseGA [line: 348]: >Problem: P, Epoch: 82, Current best: 0.12657, Global best: 0.12303, Runtime: 0.02221 seconds\n",
      "2023/10/18 09:03:00 PM, INFO, mealpy.evolutionary_based.GA.BaseGA [line: 348]: >Problem: P, Epoch: 83, Current best: 0.12642, Global best: 0.12303, Runtime: 0.02157 seconds\n",
      "2023/10/18 09:03:00 PM, INFO, mealpy.evolutionary_based.GA.BaseGA [line: 348]: >Problem: P, Epoch: 84, Current best: 0.12066, Global best: 0.12066, Runtime: 0.02163 seconds\n",
      "2023/10/18 09:03:01 PM, INFO, mealpy.evolutionary_based.GA.BaseGA [line: 348]: >Problem: P, Epoch: 85, Current best: 0.12259, Global best: 0.12066, Runtime: 0.02174 seconds\n",
      "2023/10/18 09:03:01 PM, INFO, mealpy.evolutionary_based.GA.BaseGA [line: 348]: >Problem: P, Epoch: 86, Current best: 0.12583, Global best: 0.12066, Runtime: 0.02226 seconds\n",
      "2023/10/18 09:03:01 PM, INFO, mealpy.evolutionary_based.GA.BaseGA [line: 348]: >Problem: P, Epoch: 87, Current best: 0.12225, Global best: 0.12066, Runtime: 0.02216 seconds\n",
      "2023/10/18 09:03:01 PM, INFO, mealpy.evolutionary_based.GA.BaseGA [line: 348]: >Problem: P, Epoch: 88, Current best: 0.12663, Global best: 0.12066, Runtime: 0.02190 seconds\n",
      "2023/10/18 09:03:01 PM, INFO, mealpy.evolutionary_based.GA.BaseGA [line: 348]: >Problem: P, Epoch: 89, Current best: 0.12377, Global best: 0.12066, Runtime: 0.02156 seconds\n",
      "2023/10/18 09:03:01 PM, INFO, mealpy.evolutionary_based.GA.BaseGA [line: 348]: >Problem: P, Epoch: 90, Current best: 0.12381, Global best: 0.12066, Runtime: 0.02215 seconds\n",
      "2023/10/18 09:03:01 PM, INFO, mealpy.evolutionary_based.GA.BaseGA [line: 348]: >Problem: P, Epoch: 91, Current best: 0.12367, Global best: 0.12066, Runtime: 0.02162 seconds\n",
      "2023/10/18 09:03:01 PM, INFO, mealpy.evolutionary_based.GA.BaseGA [line: 348]: >Problem: P, Epoch: 92, Current best: 0.12131, Global best: 0.12066, Runtime: 0.02191 seconds\n",
      "2023/10/18 09:03:01 PM, INFO, mealpy.evolutionary_based.GA.BaseGA [line: 348]: >Problem: P, Epoch: 93, Current best: 0.12923, Global best: 0.12066, Runtime: 0.02231 seconds\n",
      "2023/10/18 09:03:01 PM, INFO, mealpy.evolutionary_based.GA.BaseGA [line: 348]: >Problem: P, Epoch: 94, Current best: 0.1192, Global best: 0.1192, Runtime: 0.02694 seconds\n",
      "2023/10/18 09:03:01 PM, INFO, mealpy.evolutionary_based.GA.BaseGA [line: 348]: >Problem: P, Epoch: 95, Current best: 0.12347, Global best: 0.1192, Runtime: 0.02469 seconds\n"
     ]
    },
    {
     "name": "stderr",
     "output_type": "stream",
     "text": [
      "2023/10/18 09:03:01 PM, INFO, mealpy.evolutionary_based.GA.BaseGA [line: 348]: >Problem: P, Epoch: 96, Current best: 0.1249, Global best: 0.1192, Runtime: 0.02393 seconds\n",
      "2023/10/18 09:03:01 PM, INFO, mealpy.evolutionary_based.GA.BaseGA [line: 348]: >Problem: P, Epoch: 97, Current best: 0.11649, Global best: 0.11649, Runtime: 0.02549 seconds\n",
      "2023/10/18 09:03:01 PM, INFO, mealpy.evolutionary_based.GA.BaseGA [line: 348]: >Problem: P, Epoch: 98, Current best: 0.11515, Global best: 0.11515, Runtime: 0.02433 seconds\n",
      "2023/10/18 09:03:01 PM, INFO, mealpy.evolutionary_based.GA.BaseGA [line: 348]: >Problem: P, Epoch: 99, Current best: 0.12209, Global best: 0.11515, Runtime: 0.02342 seconds\n",
      "2023/10/18 09:03:01 PM, INFO, mealpy.evolutionary_based.GA.BaseGA [line: 348]: >Problem: P, Epoch: 100, Current best: 0.1282, Global best: 0.11515, Runtime: 0.02407 seconds\n"
     ]
    },
    {
     "data": {
      "text/html": [
       "<style>#sk-container-id-5 {color: black;background-color: white;}#sk-container-id-5 pre{padding: 0;}#sk-container-id-5 div.sk-toggleable {background-color: white;}#sk-container-id-5 label.sk-toggleable__label {cursor: pointer;display: block;width: 100%;margin-bottom: 0;padding: 0.3em;box-sizing: border-box;text-align: center;}#sk-container-id-5 label.sk-toggleable__label-arrow:before {content: \"▸\";float: left;margin-right: 0.25em;color: #696969;}#sk-container-id-5 label.sk-toggleable__label-arrow:hover:before {color: black;}#sk-container-id-5 div.sk-estimator:hover label.sk-toggleable__label-arrow:before {color: black;}#sk-container-id-5 div.sk-toggleable__content {max-height: 0;max-width: 0;overflow: hidden;text-align: left;background-color: #f0f8ff;}#sk-container-id-5 div.sk-toggleable__content pre {margin: 0.2em;color: black;border-radius: 0.25em;background-color: #f0f8ff;}#sk-container-id-5 input.sk-toggleable__control:checked~div.sk-toggleable__content {max-height: 200px;max-width: 100%;overflow: auto;}#sk-container-id-5 input.sk-toggleable__control:checked~label.sk-toggleable__label-arrow:before {content: \"▾\";}#sk-container-id-5 div.sk-estimator input.sk-toggleable__control:checked~label.sk-toggleable__label {background-color: #d4ebff;}#sk-container-id-5 div.sk-label input.sk-toggleable__control:checked~label.sk-toggleable__label {background-color: #d4ebff;}#sk-container-id-5 input.sk-hidden--visually {border: 0;clip: rect(1px 1px 1px 1px);clip: rect(1px, 1px, 1px, 1px);height: 1px;margin: -1px;overflow: hidden;padding: 0;position: absolute;width: 1px;}#sk-container-id-5 div.sk-estimator {font-family: monospace;background-color: #f0f8ff;border: 1px dotted black;border-radius: 0.25em;box-sizing: border-box;margin-bottom: 0.5em;}#sk-container-id-5 div.sk-estimator:hover {background-color: #d4ebff;}#sk-container-id-5 div.sk-parallel-item::after {content: \"\";width: 100%;border-bottom: 1px solid gray;flex-grow: 1;}#sk-container-id-5 div.sk-label:hover label.sk-toggleable__label {background-color: #d4ebff;}#sk-container-id-5 div.sk-serial::before {content: \"\";position: absolute;border-left: 1px solid gray;box-sizing: border-box;top: 0;bottom: 0;left: 50%;z-index: 0;}#sk-container-id-5 div.sk-serial {display: flex;flex-direction: column;align-items: center;background-color: white;padding-right: 0.2em;padding-left: 0.2em;position: relative;}#sk-container-id-5 div.sk-item {position: relative;z-index: 1;}#sk-container-id-5 div.sk-parallel {display: flex;align-items: stretch;justify-content: center;background-color: white;position: relative;}#sk-container-id-5 div.sk-item::before, #sk-container-id-5 div.sk-parallel-item::before {content: \"\";position: absolute;border-left: 1px solid gray;box-sizing: border-box;top: 0;bottom: 0;left: 50%;z-index: -1;}#sk-container-id-5 div.sk-parallel-item {display: flex;flex-direction: column;z-index: 1;position: relative;background-color: white;}#sk-container-id-5 div.sk-parallel-item:first-child::after {align-self: flex-end;width: 50%;}#sk-container-id-5 div.sk-parallel-item:last-child::after {align-self: flex-start;width: 50%;}#sk-container-id-5 div.sk-parallel-item:only-child::after {width: 0;}#sk-container-id-5 div.sk-dashed-wrapped {border: 1px dashed gray;margin: 0 0.4em 0.5em 0.4em;box-sizing: border-box;padding-bottom: 0.4em;background-color: white;}#sk-container-id-5 div.sk-label label {font-family: monospace;font-weight: bold;display: inline-block;line-height: 1.2em;}#sk-container-id-5 div.sk-label-container {text-align: center;}#sk-container-id-5 div.sk-container {/* jupyter's `normalize.less` sets `[hidden] { display: none; }` but bootstrap.min.css set `[hidden] { display: none !important; }` so we also need the `!important` here to be able to override the default hidden behavior on the sphinx rendered scikit-learn.org. See: https://github.com/scikit-learn/scikit-learn/issues/21755 */display: inline-block !important;position: relative;}#sk-container-id-5 div.sk-text-repr-fallback {display: none;}</style><div id=\"sk-container-id-5\" class=\"sk-top-container\"><div class=\"sk-text-repr-fallback\"><pre>MhaElmClassifier(act_name=&#x27;tanh&#x27;, hidden_size=20, obj_name=&#x27;KLDL&#x27;,\n",
       "                 optimizer=&lt;mealpy.evolutionary_based.GA.BaseGA object at 0x0000027BA69219A0&gt;,\n",
       "                 optimizer_paras={&#x27;epoch&#x27;: 100, &#x27;name&#x27;: &#x27;GA&#x27;, &#x27;pop_size&#x27;: 30},\n",
       "                 verbose=True)</pre><b>In a Jupyter environment, please rerun this cell to show the HTML representation or trust the notebook. <br />On GitHub, the HTML representation is unable to render, please try loading this page with nbviewer.org.</b></div><div class=\"sk-container\" hidden><div class=\"sk-item\"><div class=\"sk-estimator sk-toggleable\"><input class=\"sk-toggleable__control sk-hidden--visually\" id=\"sk-estimator-id-5\" type=\"checkbox\" checked><label for=\"sk-estimator-id-5\" class=\"sk-toggleable__label sk-toggleable__label-arrow\">MhaElmClassifier</label><div class=\"sk-toggleable__content\"><pre>MhaElmClassifier(act_name=&#x27;tanh&#x27;, hidden_size=20, obj_name=&#x27;KLDL&#x27;,\n",
       "                 optimizer=&lt;mealpy.evolutionary_based.GA.BaseGA object at 0x0000027BA69219A0&gt;,\n",
       "                 optimizer_paras={&#x27;epoch&#x27;: 100, &#x27;name&#x27;: &#x27;GA&#x27;, &#x27;pop_size&#x27;: 30},\n",
       "                 verbose=True)</pre></div></div></div></div></div>"
      ],
      "text/plain": [
       "MhaElmClassifier(act_name='tanh', hidden_size=20, obj_name='KLDL',\n",
       "                 optimizer=<mealpy.evolutionary_based.GA.BaseGA object at 0x0000027BA69219A0>,\n",
       "                 optimizer_paras={'epoch': 100, 'name': 'GA', 'pop_size': 30},\n",
       "                 verbose=True)"
      ]
     },
     "execution_count": 27,
     "metadata": {},
     "output_type": "execute_result"
    }
   ],
   "source": [
    "opt_paras = {\"name\": \"GA\", \"epoch\": 100, \"pop_size\": 30}\n",
    "model = MhaElmClassifier(hidden_size=20, act_name=\"tanh\", obj_name=\"KLDL\", optimizer=\"BaseGA\", optimizer_paras=opt_paras, verbose=True)\n",
    "model.fit(data.X_train, data.y_train)"
   ]
  },
  {
   "cell_type": "code",
   "execution_count": 30,
   "metadata": {},
   "outputs": [
    {
     "name": "stdout",
     "output_type": "stream",
     "text": [
      "Try my evaluate functions\n",
      "{'AS': 0.93495935, 'F1S': 0.8981685, 'PS': 0.9039886, 'RS': 0.89414507}\n"
     ]
    }
   ],
   "source": [
    "y_pred_cls = model.predict(data.X_test)\n",
    "print(\"Try my evaluate functions\")\n",
    "print(model.evaluate(data.y_test, y_pred_cls, list_metrics=(\"AS\", \"F1S\", \"PS\", \"RS\")))"
   ]
  },
  {
   "cell_type": "markdown",
   "metadata": {},
   "source": [
    "#### So the results of GA-ELM is not better than traditional ELM. \n",
    "We should try more epoch, and different obj_name."
   ]
  },
  {
   "cell_type": "code",
   "execution_count": 33,
   "metadata": {},
   "outputs": [
    {
     "name": "stderr",
     "output_type": "stream",
     "text": [
      "2023/10/18 09:14:56 PM, INFO, mealpy.evolutionary_based.GA.BaseGA [line: 231]: Solving single objective optimization problem.\n",
      "2023/10/18 09:14:56 PM, INFO, mealpy.evolutionary_based.GA.BaseGA [line: 348]: >Problem: P, Epoch: 1, Current best: 0.968027, Global best: 0.968389, Runtime: 0.04840 seconds\n",
      "2023/10/18 09:14:56 PM, INFO, mealpy.evolutionary_based.GA.BaseGA [line: 348]: >Problem: P, Epoch: 2, Current best: 0.967763, Global best: 0.968389, Runtime: 0.04997 seconds\n",
      "2023/10/18 09:14:56 PM, INFO, mealpy.evolutionary_based.GA.BaseGA [line: 348]: >Problem: P, Epoch: 3, Current best: 0.962398, Global best: 0.968389, Runtime: 0.04885 seconds\n",
      "2023/10/18 09:14:56 PM, INFO, mealpy.evolutionary_based.GA.BaseGA [line: 348]: >Problem: P, Epoch: 4, Current best: 0.956232, Global best: 0.968389, Runtime: 0.05015 seconds\n",
      "2023/10/18 09:14:56 PM, INFO, mealpy.evolutionary_based.GA.BaseGA [line: 348]: >Problem: P, Epoch: 5, Current best: 0.962066, Global best: 0.968389, Runtime: 0.04968 seconds\n",
      "2023/10/18 09:14:56 PM, INFO, mealpy.evolutionary_based.GA.BaseGA [line: 348]: >Problem: P, Epoch: 6, Current best: 0.961797, Global best: 0.968389, Runtime: 0.04941 seconds\n",
      "2023/10/18 09:14:56 PM, INFO, mealpy.evolutionary_based.GA.BaseGA [line: 348]: >Problem: P, Epoch: 7, Current best: 0.968492, Global best: 0.968492, Runtime: 0.04856 seconds\n",
      "2023/10/18 09:14:56 PM, INFO, mealpy.evolutionary_based.GA.BaseGA [line: 348]: >Problem: P, Epoch: 8, Current best: 0.974478, Global best: 0.974478, Runtime: 0.04938 seconds\n",
      "2023/10/18 09:14:56 PM, INFO, mealpy.evolutionary_based.GA.BaseGA [line: 348]: >Problem: P, Epoch: 9, Current best: 0.968027, Global best: 0.974478, Runtime: 0.04930 seconds\n",
      "2023/10/18 09:14:56 PM, INFO, mealpy.evolutionary_based.GA.BaseGA [line: 348]: >Problem: P, Epoch: 10, Current best: 0.968389, Global best: 0.974478, Runtime: 0.05066 seconds\n",
      "2023/10/18 09:14:56 PM, INFO, mealpy.evolutionary_based.GA.BaseGA [line: 348]: >Problem: P, Epoch: 11, Current best: 0.968389, Global best: 0.974478, Runtime: 0.05102 seconds\n",
      "2023/10/18 09:14:56 PM, INFO, mealpy.evolutionary_based.GA.BaseGA [line: 348]: >Problem: P, Epoch: 12, Current best: 0.968184, Global best: 0.974478, Runtime: 0.05132 seconds\n",
      "2023/10/18 09:14:56 PM, INFO, mealpy.evolutionary_based.GA.BaseGA [line: 348]: >Problem: P, Epoch: 13, Current best: 0.968389, Global best: 0.974478, Runtime: 0.05092 seconds\n",
      "2023/10/18 09:14:56 PM, INFO, mealpy.evolutionary_based.GA.BaseGA [line: 348]: >Problem: P, Epoch: 14, Current best: 0.968492, Global best: 0.974478, Runtime: 0.05189 seconds\n",
      "2023/10/18 09:14:57 PM, INFO, mealpy.evolutionary_based.GA.BaseGA [line: 348]: >Problem: P, Epoch: 15, Current best: 0.96817, Global best: 0.974478, Runtime: 0.05038 seconds\n",
      "2023/10/18 09:14:57 PM, INFO, mealpy.evolutionary_based.GA.BaseGA [line: 348]: >Problem: P, Epoch: 16, Current best: 0.968027, Global best: 0.974478, Runtime: 0.05322 seconds\n",
      "2023/10/18 09:14:57 PM, INFO, mealpy.evolutionary_based.GA.BaseGA [line: 348]: >Problem: P, Epoch: 17, Current best: 0.980731, Global best: 0.980731, Runtime: 0.05027 seconds\n",
      "2023/10/18 09:14:57 PM, INFO, mealpy.evolutionary_based.GA.BaseGA [line: 348]: >Problem: P, Epoch: 18, Current best: 0.980731, Global best: 0.980731, Runtime: 0.04950 seconds\n",
      "2023/10/18 09:14:57 PM, INFO, mealpy.evolutionary_based.GA.BaseGA [line: 348]: >Problem: P, Epoch: 19, Current best: 0.968492, Global best: 0.980731, Runtime: 0.05225 seconds\n",
      "2023/10/18 09:14:57 PM, INFO, mealpy.evolutionary_based.GA.BaseGA [line: 348]: >Problem: P, Epoch: 20, Current best: 0.974799, Global best: 0.980731, Runtime: 0.04813 seconds\n",
      "2023/10/18 09:14:57 PM, INFO, mealpy.evolutionary_based.GA.BaseGA [line: 348]: >Problem: P, Epoch: 21, Current best: 0.974394, Global best: 0.980731, Runtime: 0.04996 seconds\n",
      "2023/10/18 09:14:57 PM, INFO, mealpy.evolutionary_based.GA.BaseGA [line: 348]: >Problem: P, Epoch: 22, Current best: 0.973669, Global best: 0.980731, Runtime: 0.05068 seconds\n",
      "2023/10/18 09:14:57 PM, INFO, mealpy.evolutionary_based.GA.BaseGA [line: 348]: >Problem: P, Epoch: 23, Current best: 0.97512, Global best: 0.980731, Runtime: 0.05003 seconds\n",
      "2023/10/18 09:14:57 PM, INFO, mealpy.evolutionary_based.GA.BaseGA [line: 348]: >Problem: P, Epoch: 24, Current best: 0.980731, Global best: 0.980731, Runtime: 0.05094 seconds\n",
      "2023/10/18 09:14:57 PM, INFO, mealpy.evolutionary_based.GA.BaseGA [line: 348]: >Problem: P, Epoch: 25, Current best: 0.974827, Global best: 0.980731, Runtime: 0.05579 seconds\n",
      "2023/10/18 09:14:57 PM, INFO, mealpy.evolutionary_based.GA.BaseGA [line: 348]: >Problem: P, Epoch: 26, Current best: 0.974517, Global best: 0.980731, Runtime: 0.05537 seconds\n",
      "2023/10/18 09:14:57 PM, INFO, mealpy.evolutionary_based.GA.BaseGA [line: 348]: >Problem: P, Epoch: 27, Current best: 0.974679, Global best: 0.980731, Runtime: 0.05666 seconds\n",
      "2023/10/18 09:14:57 PM, INFO, mealpy.evolutionary_based.GA.BaseGA [line: 348]: >Problem: P, Epoch: 28, Current best: 0.980731, Global best: 0.980731, Runtime: 0.05574 seconds\n",
      "2023/10/18 09:14:57 PM, INFO, mealpy.evolutionary_based.GA.BaseGA [line: 348]: >Problem: P, Epoch: 29, Current best: 0.980731, Global best: 0.980731, Runtime: 0.05592 seconds\n",
      "2023/10/18 09:14:57 PM, INFO, mealpy.evolutionary_based.GA.BaseGA [line: 348]: >Problem: P, Epoch: 30, Current best: 0.980731, Global best: 0.980731, Runtime: 0.05020 seconds\n",
      "2023/10/18 09:14:57 PM, INFO, mealpy.evolutionary_based.GA.BaseGA [line: 348]: >Problem: P, Epoch: 31, Current best: 0.980861, Global best: 0.980861, Runtime: 0.04970 seconds\n",
      "2023/10/18 09:14:57 PM, INFO, mealpy.evolutionary_based.GA.BaseGA [line: 348]: >Problem: P, Epoch: 32, Current best: 0.980731, Global best: 0.980861, Runtime: 0.04950 seconds\n",
      "2023/10/18 09:14:57 PM, INFO, mealpy.evolutionary_based.GA.BaseGA [line: 348]: >Problem: P, Epoch: 33, Current best: 0.986766, Global best: 0.986766, Runtime: 0.04899 seconds\n",
      "2023/10/18 09:14:58 PM, INFO, mealpy.evolutionary_based.GA.BaseGA [line: 348]: >Problem: P, Epoch: 34, Current best: 0.980731, Global best: 0.986766, Runtime: 0.04891 seconds\n",
      "2023/10/18 09:14:58 PM, INFO, mealpy.evolutionary_based.GA.BaseGA [line: 348]: >Problem: P, Epoch: 35, Current best: 0.986766, Global best: 0.986766, Runtime: 0.04909 seconds\n",
      "2023/10/18 09:14:58 PM, INFO, mealpy.evolutionary_based.GA.BaseGA [line: 348]: >Problem: P, Epoch: 36, Current best: 0.980383, Global best: 0.986766, Runtime: 0.04981 seconds\n",
      "2023/10/18 09:14:58 PM, INFO, mealpy.evolutionary_based.GA.BaseGA [line: 348]: >Problem: P, Epoch: 37, Current best: 0.980383, Global best: 0.986766, Runtime: 0.04920 seconds\n",
      "2023/10/18 09:14:58 PM, INFO, mealpy.evolutionary_based.GA.BaseGA [line: 348]: >Problem: P, Epoch: 38, Current best: 0.980552, Global best: 0.986766, Runtime: 0.04919 seconds\n",
      "2023/10/18 09:14:58 PM, INFO, mealpy.evolutionary_based.GA.BaseGA [line: 348]: >Problem: P, Epoch: 39, Current best: 0.980861, Global best: 0.986766, Runtime: 0.04908 seconds\n",
      "2023/10/18 09:14:58 PM, INFO, mealpy.evolutionary_based.GA.BaseGA [line: 348]: >Problem: P, Epoch: 40, Current best: 0.981389, Global best: 0.986766, Runtime: 0.04889 seconds\n",
      "2023/10/18 09:14:58 PM, INFO, mealpy.evolutionary_based.GA.BaseGA [line: 348]: >Problem: P, Epoch: 41, Current best: 0.975128, Global best: 0.986766, Runtime: 0.04924 seconds\n",
      "2023/10/18 09:14:58 PM, INFO, mealpy.evolutionary_based.GA.BaseGA [line: 348]: >Problem: P, Epoch: 42, Current best: 0.975082, Global best: 0.986766, Runtime: 0.04956 seconds\n",
      "2023/10/18 09:14:58 PM, INFO, mealpy.evolutionary_based.GA.BaseGA [line: 348]: >Problem: P, Epoch: 43, Current best: 0.980861, Global best: 0.986766, Runtime: 0.04878 seconds\n",
      "2023/10/18 09:14:58 PM, INFO, mealpy.evolutionary_based.GA.BaseGA [line: 348]: >Problem: P, Epoch: 44, Current best: 0.986766, Global best: 0.986766, Runtime: 0.04909 seconds\n",
      "2023/10/18 09:14:58 PM, INFO, mealpy.evolutionary_based.GA.BaseGA [line: 348]: >Problem: P, Epoch: 45, Current best: 0.980383, Global best: 0.986766, Runtime: 0.04959 seconds\n",
      "2023/10/18 09:14:58 PM, INFO, mealpy.evolutionary_based.GA.BaseGA [line: 348]: >Problem: P, Epoch: 46, Current best: 0.980383, Global best: 0.986766, Runtime: 0.04955 seconds\n",
      "2023/10/18 09:14:58 PM, INFO, mealpy.evolutionary_based.GA.BaseGA [line: 348]: >Problem: P, Epoch: 47, Current best: 0.986766, Global best: 0.986766, Runtime: 0.04895 seconds\n"
     ]
    },
    {
     "name": "stderr",
     "output_type": "stream",
     "text": [
      "2023/10/18 09:14:58 PM, INFO, mealpy.evolutionary_based.GA.BaseGA [line: 348]: >Problem: P, Epoch: 48, Current best: 0.986766, Global best: 0.986766, Runtime: 0.04866 seconds\n",
      "2023/10/18 09:14:58 PM, INFO, mealpy.evolutionary_based.GA.BaseGA [line: 348]: >Problem: P, Epoch: 49, Current best: 0.986766, Global best: 0.986766, Runtime: 0.04853 seconds\n",
      "2023/10/18 09:14:58 PM, INFO, mealpy.evolutionary_based.GA.BaseGA [line: 348]: >Problem: P, Epoch: 50, Current best: 0.986766, Global best: 0.986766, Runtime: 0.04926 seconds\n",
      "2023/10/18 09:14:58 PM, INFO, mealpy.evolutionary_based.GA.BaseGA [line: 348]: >Problem: P, Epoch: 51, Current best: 0.986766, Global best: 0.986766, Runtime: 0.04865 seconds\n",
      "2023/10/18 09:14:58 PM, INFO, mealpy.evolutionary_based.GA.BaseGA [line: 348]: >Problem: P, Epoch: 52, Current best: 0.986766, Global best: 0.986766, Runtime: 0.04945 seconds\n",
      "2023/10/18 09:14:58 PM, INFO, mealpy.evolutionary_based.GA.BaseGA [line: 348]: >Problem: P, Epoch: 53, Current best: 0.986766, Global best: 0.986766, Runtime: 0.04934 seconds\n",
      "2023/10/18 09:14:59 PM, INFO, mealpy.evolutionary_based.GA.BaseGA [line: 348]: >Problem: P, Epoch: 54, Current best: 0.981117, Global best: 0.986766, Runtime: 0.04973 seconds\n",
      "2023/10/18 09:14:59 PM, INFO, mealpy.evolutionary_based.GA.BaseGA [line: 348]: >Problem: P, Epoch: 55, Current best: 0.986766, Global best: 0.986766, Runtime: 0.04874 seconds\n",
      "2023/10/18 09:14:59 PM, INFO, mealpy.evolutionary_based.GA.BaseGA [line: 348]: >Problem: P, Epoch: 56, Current best: 0.980866, Global best: 0.986766, Runtime: 0.04883 seconds\n",
      "2023/10/18 09:14:59 PM, INFO, mealpy.evolutionary_based.GA.BaseGA [line: 348]: >Problem: P, Epoch: 57, Current best: 0.993376, Global best: 0.993376, Runtime: 0.04906 seconds\n",
      "2023/10/18 09:14:59 PM, INFO, mealpy.evolutionary_based.GA.BaseGA [line: 348]: >Problem: P, Epoch: 58, Current best: 0.986991, Global best: 0.993376, Runtime: 0.04862 seconds\n",
      "2023/10/18 09:14:59 PM, INFO, mealpy.evolutionary_based.GA.BaseGA [line: 348]: >Problem: P, Epoch: 59, Current best: 0.993376, Global best: 0.993376, Runtime: 0.04888 seconds\n",
      "2023/10/18 09:14:59 PM, INFO, mealpy.evolutionary_based.GA.BaseGA [line: 348]: >Problem: P, Epoch: 60, Current best: 0.986766, Global best: 0.993376, Runtime: 0.04969 seconds\n",
      "2023/10/18 09:14:59 PM, INFO, mealpy.evolutionary_based.GA.BaseGA [line: 348]: >Problem: P, Epoch: 61, Current best: 0.987091, Global best: 0.993376, Runtime: 0.04890 seconds\n",
      "2023/10/18 09:14:59 PM, INFO, mealpy.evolutionary_based.GA.BaseGA [line: 348]: >Problem: P, Epoch: 62, Current best: 0.986766, Global best: 0.993376, Runtime: 0.04942 seconds\n",
      "2023/10/18 09:14:59 PM, INFO, mealpy.evolutionary_based.GA.BaseGA [line: 348]: >Problem: P, Epoch: 63, Current best: 0.986766, Global best: 0.993376, Runtime: 0.04994 seconds\n",
      "2023/10/18 09:14:59 PM, INFO, mealpy.evolutionary_based.GA.BaseGA [line: 348]: >Problem: P, Epoch: 64, Current best: 0.987352, Global best: 0.993376, Runtime: 0.04926 seconds\n",
      "2023/10/18 09:14:59 PM, INFO, mealpy.evolutionary_based.GA.BaseGA [line: 348]: >Problem: P, Epoch: 65, Current best: 0.987401, Global best: 0.993376, Runtime: 0.05054 seconds\n",
      "2023/10/18 09:14:59 PM, INFO, mealpy.evolutionary_based.GA.BaseGA [line: 348]: >Problem: P, Epoch: 66, Current best: 0.987401, Global best: 0.993376, Runtime: 0.04888 seconds\n",
      "2023/10/18 09:14:59 PM, INFO, mealpy.evolutionary_based.GA.BaseGA [line: 348]: >Problem: P, Epoch: 67, Current best: 0.986766, Global best: 0.993376, Runtime: 0.04962 seconds\n",
      "2023/10/18 09:14:59 PM, INFO, mealpy.evolutionary_based.GA.BaseGA [line: 348]: >Problem: P, Epoch: 68, Current best: 0.987469, Global best: 0.993376, Runtime: 0.04878 seconds\n",
      "2023/10/18 09:14:59 PM, INFO, mealpy.evolutionary_based.GA.BaseGA [line: 348]: >Problem: P, Epoch: 69, Current best: 0.986766, Global best: 0.993376, Runtime: 0.04974 seconds\n",
      "2023/10/18 09:14:59 PM, INFO, mealpy.evolutionary_based.GA.BaseGA [line: 348]: >Problem: P, Epoch: 70, Current best: 0.986991, Global best: 0.993376, Runtime: 0.04839 seconds\n",
      "2023/10/18 09:14:59 PM, INFO, mealpy.evolutionary_based.GA.BaseGA [line: 348]: >Problem: P, Epoch: 71, Current best: 0.986766, Global best: 0.993376, Runtime: 0.04898 seconds\n",
      "2023/10/18 09:14:59 PM, INFO, mealpy.evolutionary_based.GA.BaseGA [line: 348]: >Problem: P, Epoch: 72, Current best: 0.986766, Global best: 0.993376, Runtime: 0.04955 seconds\n",
      "2023/10/18 09:14:59 PM, INFO, mealpy.evolutionary_based.GA.BaseGA [line: 348]: >Problem: P, Epoch: 73, Current best: 0.980861, Global best: 0.993376, Runtime: 0.04922 seconds\n",
      "2023/10/18 09:15:00 PM, INFO, mealpy.evolutionary_based.GA.BaseGA [line: 348]: >Problem: P, Epoch: 74, Current best: 0.986766, Global best: 0.993376, Runtime: 0.05151 seconds\n",
      "2023/10/18 09:15:00 PM, INFO, mealpy.evolutionary_based.GA.BaseGA [line: 348]: >Problem: P, Epoch: 75, Current best: 0.986766, Global best: 0.993376, Runtime: 0.04869 seconds\n",
      "2023/10/18 09:15:00 PM, INFO, mealpy.evolutionary_based.GA.BaseGA [line: 348]: >Problem: P, Epoch: 76, Current best: 0.986766, Global best: 0.993376, Runtime: 0.04901 seconds\n",
      "2023/10/18 09:15:00 PM, INFO, mealpy.evolutionary_based.GA.BaseGA [line: 348]: >Problem: P, Epoch: 77, Current best: 0.986766, Global best: 0.993376, Runtime: 0.04825 seconds\n",
      "2023/10/18 09:15:00 PM, INFO, mealpy.evolutionary_based.GA.BaseGA [line: 348]: >Problem: P, Epoch: 78, Current best: 0.986766, Global best: 0.993376, Runtime: 0.04900 seconds\n",
      "2023/10/18 09:15:00 PM, INFO, mealpy.evolutionary_based.GA.BaseGA [line: 348]: >Problem: P, Epoch: 79, Current best: 0.986766, Global best: 0.993376, Runtime: 0.04921 seconds\n",
      "2023/10/18 09:15:00 PM, INFO, mealpy.evolutionary_based.GA.BaseGA [line: 348]: >Problem: P, Epoch: 80, Current best: 0.986766, Global best: 0.993376, Runtime: 0.04889 seconds\n",
      "2023/10/18 09:15:00 PM, INFO, mealpy.evolutionary_based.GA.BaseGA [line: 348]: >Problem: P, Epoch: 81, Current best: 0.986766, Global best: 0.993376, Runtime: 0.05060 seconds\n",
      "2023/10/18 09:15:00 PM, INFO, mealpy.evolutionary_based.GA.BaseGA [line: 348]: >Problem: P, Epoch: 82, Current best: 0.986766, Global best: 0.993376, Runtime: 0.04972 seconds\n",
      "2023/10/18 09:15:00 PM, INFO, mealpy.evolutionary_based.GA.BaseGA [line: 348]: >Problem: P, Epoch: 83, Current best: 0.986766, Global best: 0.993376, Runtime: 0.05037 seconds\n",
      "2023/10/18 09:15:00 PM, INFO, mealpy.evolutionary_based.GA.BaseGA [line: 348]: >Problem: P, Epoch: 84, Current best: 0.986766, Global best: 0.993376, Runtime: 0.04975 seconds\n",
      "2023/10/18 09:15:00 PM, INFO, mealpy.evolutionary_based.GA.BaseGA [line: 348]: >Problem: P, Epoch: 85, Current best: 0.986766, Global best: 0.993376, Runtime: 0.04889 seconds\n",
      "2023/10/18 09:15:00 PM, INFO, mealpy.evolutionary_based.GA.BaseGA [line: 348]: >Problem: P, Epoch: 86, Current best: 0.986766, Global best: 0.993376, Runtime: 0.04980 seconds\n",
      "2023/10/18 09:15:00 PM, INFO, mealpy.evolutionary_based.GA.BaseGA [line: 348]: >Problem: P, Epoch: 87, Current best: 0.986766, Global best: 0.993376, Runtime: 0.04906 seconds\n",
      "2023/10/18 09:15:00 PM, INFO, mealpy.evolutionary_based.GA.BaseGA [line: 348]: >Problem: P, Epoch: 88, Current best: 0.986766, Global best: 0.993376, Runtime: 0.04868 seconds\n",
      "2023/10/18 09:15:00 PM, INFO, mealpy.evolutionary_based.GA.BaseGA [line: 348]: >Problem: P, Epoch: 89, Current best: 0.986766, Global best: 0.993376, Runtime: 0.04886 seconds\n",
      "2023/10/18 09:15:00 PM, INFO, mealpy.evolutionary_based.GA.BaseGA [line: 348]: >Problem: P, Epoch: 90, Current best: 0.986766, Global best: 0.993376, Runtime: 0.04875 seconds\n",
      "2023/10/18 09:15:00 PM, INFO, mealpy.evolutionary_based.GA.BaseGA [line: 348]: >Problem: P, Epoch: 91, Current best: 0.986766, Global best: 0.993376, Runtime: 0.05241 seconds\n",
      "2023/10/18 09:15:00 PM, INFO, mealpy.evolutionary_based.GA.BaseGA [line: 348]: >Problem: P, Epoch: 92, Current best: 0.986766, Global best: 0.993376, Runtime: 0.05228 seconds\n",
      "2023/10/18 09:15:00 PM, INFO, mealpy.evolutionary_based.GA.BaseGA [line: 348]: >Problem: P, Epoch: 93, Current best: 0.986766, Global best: 0.993376, Runtime: 0.05137 seconds\n",
      "2023/10/18 09:15:01 PM, INFO, mealpy.evolutionary_based.GA.BaseGA [line: 348]: >Problem: P, Epoch: 94, Current best: 0.986766, Global best: 0.993376, Runtime: 0.05229 seconds\n"
     ]
    },
    {
     "name": "stderr",
     "output_type": "stream",
     "text": [
      "2023/10/18 09:15:01 PM, INFO, mealpy.evolutionary_based.GA.BaseGA [line: 348]: >Problem: P, Epoch: 95, Current best: 0.986766, Global best: 0.993376, Runtime: 0.05097 seconds\n",
      "2023/10/18 09:15:01 PM, INFO, mealpy.evolutionary_based.GA.BaseGA [line: 348]: >Problem: P, Epoch: 96, Current best: 0.986766, Global best: 0.993376, Runtime: 0.05087 seconds\n",
      "2023/10/18 09:15:01 PM, INFO, mealpy.evolutionary_based.GA.BaseGA [line: 348]: >Problem: P, Epoch: 97, Current best: 0.986766, Global best: 0.993376, Runtime: 0.04922 seconds\n",
      "2023/10/18 09:15:01 PM, INFO, mealpy.evolutionary_based.GA.BaseGA [line: 348]: >Problem: P, Epoch: 98, Current best: 0.986766, Global best: 0.993376, Runtime: 0.04999 seconds\n",
      "2023/10/18 09:15:01 PM, INFO, mealpy.evolutionary_based.GA.BaseGA [line: 348]: >Problem: P, Epoch: 99, Current best: 0.986766, Global best: 0.993376, Runtime: 0.04842 seconds\n",
      "2023/10/18 09:15:01 PM, INFO, mealpy.evolutionary_based.GA.BaseGA [line: 348]: >Problem: P, Epoch: 100, Current best: 0.986766, Global best: 0.993376, Runtime: 0.05067 seconds\n",
      "2023/10/18 09:15:01 PM, INFO, mealpy.evolutionary_based.GA.BaseGA [line: 348]: >Problem: P, Epoch: 101, Current best: 0.986766, Global best: 0.993376, Runtime: 0.04918 seconds\n",
      "2023/10/18 09:15:01 PM, INFO, mealpy.evolutionary_based.GA.BaseGA [line: 348]: >Problem: P, Epoch: 102, Current best: 0.987352, Global best: 0.993376, Runtime: 0.05228 seconds\n",
      "2023/10/18 09:15:01 PM, INFO, mealpy.evolutionary_based.GA.BaseGA [line: 348]: >Problem: P, Epoch: 103, Current best: 0.986766, Global best: 0.993376, Runtime: 0.04981 seconds\n",
      "2023/10/18 09:15:01 PM, INFO, mealpy.evolutionary_based.GA.BaseGA [line: 348]: >Problem: P, Epoch: 104, Current best: 0.986766, Global best: 0.993376, Runtime: 0.05109 seconds\n",
      "2023/10/18 09:15:01 PM, INFO, mealpy.evolutionary_based.GA.BaseGA [line: 348]: >Problem: P, Epoch: 105, Current best: 0.993376, Global best: 0.993376, Runtime: 0.05021 seconds\n",
      "2023/10/18 09:15:01 PM, INFO, mealpy.evolutionary_based.GA.BaseGA [line: 348]: >Problem: P, Epoch: 106, Current best: 0.986766, Global best: 0.993376, Runtime: 0.05021 seconds\n",
      "2023/10/18 09:15:01 PM, INFO, mealpy.evolutionary_based.GA.BaseGA [line: 348]: >Problem: P, Epoch: 107, Current best: 0.986766, Global best: 0.993376, Runtime: 0.05009 seconds\n",
      "2023/10/18 09:15:01 PM, INFO, mealpy.evolutionary_based.GA.BaseGA [line: 348]: >Problem: P, Epoch: 108, Current best: 0.993389, Global best: 0.993389, Runtime: 0.05063 seconds\n",
      "2023/10/18 09:15:01 PM, INFO, mealpy.evolutionary_based.GA.BaseGA [line: 348]: >Problem: P, Epoch: 109, Current best: 0.987352, Global best: 0.993389, Runtime: 0.05126 seconds\n",
      "2023/10/18 09:15:01 PM, INFO, mealpy.evolutionary_based.GA.BaseGA [line: 348]: >Problem: P, Epoch: 110, Current best: 0.993389, Global best: 0.993389, Runtime: 0.05057 seconds\n",
      "2023/10/18 09:15:01 PM, INFO, mealpy.evolutionary_based.GA.BaseGA [line: 348]: >Problem: P, Epoch: 111, Current best: 0.993389, Global best: 0.993389, Runtime: 0.05052 seconds\n",
      "2023/10/18 09:15:01 PM, INFO, mealpy.evolutionary_based.GA.BaseGA [line: 348]: >Problem: P, Epoch: 112, Current best: 0.993389, Global best: 0.993389, Runtime: 0.05095 seconds\n",
      "2023/10/18 09:15:02 PM, INFO, mealpy.evolutionary_based.GA.BaseGA [line: 348]: >Problem: P, Epoch: 113, Current best: 0.98708, Global best: 0.993389, Runtime: 0.05115 seconds\n",
      "2023/10/18 09:15:02 PM, INFO, mealpy.evolutionary_based.GA.BaseGA [line: 348]: >Problem: P, Epoch: 114, Current best: 0.993389, Global best: 0.993389, Runtime: 0.05094 seconds\n",
      "2023/10/18 09:15:02 PM, INFO, mealpy.evolutionary_based.GA.BaseGA [line: 348]: >Problem: P, Epoch: 115, Current best: 0.993389, Global best: 0.993389, Runtime: 0.05117 seconds\n",
      "2023/10/18 09:15:02 PM, INFO, mealpy.evolutionary_based.GA.BaseGA [line: 348]: >Problem: P, Epoch: 116, Current best: 0.993389, Global best: 0.993389, Runtime: 0.05019 seconds\n",
      "2023/10/18 09:15:02 PM, INFO, mealpy.evolutionary_based.GA.BaseGA [line: 348]: >Problem: P, Epoch: 117, Current best: 0.993389, Global best: 0.993389, Runtime: 0.04965 seconds\n",
      "2023/10/18 09:15:02 PM, INFO, mealpy.evolutionary_based.GA.BaseGA [line: 348]: >Problem: P, Epoch: 118, Current best: 0.993389, Global best: 0.993389, Runtime: 0.04868 seconds\n",
      "2023/10/18 09:15:02 PM, INFO, mealpy.evolutionary_based.GA.BaseGA [line: 348]: >Problem: P, Epoch: 119, Current best: 0.987425, Global best: 0.993389, Runtime: 0.04967 seconds\n",
      "2023/10/18 09:15:02 PM, INFO, mealpy.evolutionary_based.GA.BaseGA [line: 348]: >Problem: P, Epoch: 120, Current best: 0.987352, Global best: 0.993389, Runtime: 0.05345 seconds\n",
      "2023/10/18 09:15:02 PM, INFO, mealpy.evolutionary_based.GA.BaseGA [line: 348]: >Problem: P, Epoch: 121, Current best: 0.993389, Global best: 0.993389, Runtime: 0.05652 seconds\n",
      "2023/10/18 09:15:02 PM, INFO, mealpy.evolutionary_based.GA.BaseGA [line: 348]: >Problem: P, Epoch: 122, Current best: 0.987352, Global best: 0.993389, Runtime: 0.05558 seconds\n",
      "2023/10/18 09:15:02 PM, INFO, mealpy.evolutionary_based.GA.BaseGA [line: 348]: >Problem: P, Epoch: 123, Current best: 0.987174, Global best: 0.993389, Runtime: 0.05544 seconds\n",
      "2023/10/18 09:15:02 PM, INFO, mealpy.evolutionary_based.GA.BaseGA [line: 348]: >Problem: P, Epoch: 124, Current best: 0.993389, Global best: 0.993389, Runtime: 0.05187 seconds\n",
      "2023/10/18 09:15:02 PM, INFO, mealpy.evolutionary_based.GA.BaseGA [line: 348]: >Problem: P, Epoch: 125, Current best: 0.993389, Global best: 0.993389, Runtime: 0.04994 seconds\n",
      "2023/10/18 09:15:02 PM, INFO, mealpy.evolutionary_based.GA.BaseGA [line: 348]: >Problem: P, Epoch: 126, Current best: 0.987425, Global best: 0.993389, Runtime: 0.06088 seconds\n",
      "2023/10/18 09:15:02 PM, INFO, mealpy.evolutionary_based.GA.BaseGA [line: 348]: >Problem: P, Epoch: 127, Current best: 0.993389, Global best: 0.993389, Runtime: 0.04979 seconds\n",
      "2023/10/18 09:15:02 PM, INFO, mealpy.evolutionary_based.GA.BaseGA [line: 348]: >Problem: P, Epoch: 128, Current best: 0.993389, Global best: 0.993389, Runtime: 0.04861 seconds\n",
      "2023/10/18 09:15:02 PM, INFO, mealpy.evolutionary_based.GA.BaseGA [line: 348]: >Problem: P, Epoch: 129, Current best: 0.993389, Global best: 0.993389, Runtime: 0.04997 seconds\n",
      "2023/10/18 09:15:02 PM, INFO, mealpy.evolutionary_based.GA.BaseGA [line: 348]: >Problem: P, Epoch: 130, Current best: 0.993389, Global best: 0.993389, Runtime: 0.05028 seconds\n",
      "2023/10/18 09:15:02 PM, INFO, mealpy.evolutionary_based.GA.BaseGA [line: 348]: >Problem: P, Epoch: 131, Current best: 0.993389, Global best: 0.993389, Runtime: 0.05053 seconds\n",
      "2023/10/18 09:15:03 PM, INFO, mealpy.evolutionary_based.GA.BaseGA [line: 348]: >Problem: P, Epoch: 132, Current best: 0.993389, Global best: 0.993389, Runtime: 0.04904 seconds\n",
      "2023/10/18 09:15:03 PM, INFO, mealpy.evolutionary_based.GA.BaseGA [line: 348]: >Problem: P, Epoch: 133, Current best: 0.993389, Global best: 0.993389, Runtime: 0.05037 seconds\n",
      "2023/10/18 09:15:03 PM, INFO, mealpy.evolutionary_based.GA.BaseGA [line: 348]: >Problem: P, Epoch: 134, Current best: 0.993389, Global best: 0.993389, Runtime: 0.05083 seconds\n",
      "2023/10/18 09:15:03 PM, INFO, mealpy.evolutionary_based.GA.BaseGA [line: 348]: >Problem: P, Epoch: 135, Current best: 0.993389, Global best: 0.993389, Runtime: 0.04947 seconds\n",
      "2023/10/18 09:15:03 PM, INFO, mealpy.evolutionary_based.GA.BaseGA [line: 348]: >Problem: P, Epoch: 136, Current best: 0.993389, Global best: 0.993389, Runtime: 0.05052 seconds\n",
      "2023/10/18 09:15:03 PM, INFO, mealpy.evolutionary_based.GA.BaseGA [line: 348]: >Problem: P, Epoch: 137, Current best: 0.993389, Global best: 0.993389, Runtime: 0.05329 seconds\n",
      "2023/10/18 09:15:03 PM, INFO, mealpy.evolutionary_based.GA.BaseGA [line: 348]: >Problem: P, Epoch: 138, Current best: 0.993389, Global best: 0.993389, Runtime: 0.05625 seconds\n",
      "2023/10/18 09:15:03 PM, INFO, mealpy.evolutionary_based.GA.BaseGA [line: 348]: >Problem: P, Epoch: 139, Current best: 0.993389, Global best: 0.993389, Runtime: 0.05493 seconds\n",
      "2023/10/18 09:15:03 PM, INFO, mealpy.evolutionary_based.GA.BaseGA [line: 348]: >Problem: P, Epoch: 140, Current best: 0.993389, Global best: 0.993389, Runtime: 0.05300 seconds\n",
      "2023/10/18 09:15:03 PM, INFO, mealpy.evolutionary_based.GA.BaseGA [line: 348]: >Problem: P, Epoch: 141, Current best: 0.993389, Global best: 0.993389, Runtime: 0.05470 seconds\n"
     ]
    },
    {
     "name": "stderr",
     "output_type": "stream",
     "text": [
      "2023/10/18 09:15:03 PM, INFO, mealpy.evolutionary_based.GA.BaseGA [line: 348]: >Problem: P, Epoch: 142, Current best: 0.993389, Global best: 0.993389, Runtime: 0.05024 seconds\n",
      "2023/10/18 09:15:03 PM, INFO, mealpy.evolutionary_based.GA.BaseGA [line: 348]: >Problem: P, Epoch: 143, Current best: 0.993389, Global best: 0.993389, Runtime: 0.05002 seconds\n",
      "2023/10/18 09:15:03 PM, INFO, mealpy.evolutionary_based.GA.BaseGA [line: 348]: >Problem: P, Epoch: 144, Current best: 0.993389, Global best: 0.993389, Runtime: 0.04902 seconds\n",
      "2023/10/18 09:15:03 PM, INFO, mealpy.evolutionary_based.GA.BaseGA [line: 348]: >Problem: P, Epoch: 145, Current best: 0.993389, Global best: 0.993389, Runtime: 0.04893 seconds\n",
      "2023/10/18 09:15:03 PM, INFO, mealpy.evolutionary_based.GA.BaseGA [line: 348]: >Problem: P, Epoch: 146, Current best: 0.993389, Global best: 0.993389, Runtime: 0.04853 seconds\n",
      "2023/10/18 09:15:03 PM, INFO, mealpy.evolutionary_based.GA.BaseGA [line: 348]: >Problem: P, Epoch: 147, Current best: 0.993389, Global best: 0.993389, Runtime: 0.05074 seconds\n",
      "2023/10/18 09:15:03 PM, INFO, mealpy.evolutionary_based.GA.BaseGA [line: 348]: >Problem: P, Epoch: 148, Current best: 0.993389, Global best: 0.993389, Runtime: 0.04911 seconds\n",
      "2023/10/18 09:15:03 PM, INFO, mealpy.evolutionary_based.GA.BaseGA [line: 348]: >Problem: P, Epoch: 149, Current best: 0.993389, Global best: 0.993389, Runtime: 0.05608 seconds\n",
      "2023/10/18 09:15:03 PM, INFO, mealpy.evolutionary_based.GA.BaseGA [line: 348]: >Problem: P, Epoch: 150, Current best: 0.993389, Global best: 0.993389, Runtime: 0.05482 seconds\n",
      "2023/10/18 09:15:04 PM, INFO, mealpy.evolutionary_based.GA.BaseGA [line: 348]: >Problem: P, Epoch: 151, Current best: 0.993389, Global best: 0.993389, Runtime: 0.05276 seconds\n",
      "2023/10/18 09:15:04 PM, INFO, mealpy.evolutionary_based.GA.BaseGA [line: 348]: >Problem: P, Epoch: 152, Current best: 0.987174, Global best: 0.993389, Runtime: 0.05348 seconds\n",
      "2023/10/18 09:15:04 PM, INFO, mealpy.evolutionary_based.GA.BaseGA [line: 348]: >Problem: P, Epoch: 153, Current best: 0.993389, Global best: 0.993389, Runtime: 0.05126 seconds\n",
      "2023/10/18 09:15:04 PM, INFO, mealpy.evolutionary_based.GA.BaseGA [line: 348]: >Problem: P, Epoch: 154, Current best: 0.993389, Global best: 0.993389, Runtime: 0.05066 seconds\n",
      "2023/10/18 09:15:04 PM, INFO, mealpy.evolutionary_based.GA.BaseGA [line: 348]: >Problem: P, Epoch: 155, Current best: 0.993389, Global best: 0.993389, Runtime: 0.04956 seconds\n",
      "2023/10/18 09:15:04 PM, INFO, mealpy.evolutionary_based.GA.BaseGA [line: 348]: >Problem: P, Epoch: 156, Current best: 0.986766, Global best: 0.993389, Runtime: 0.04933 seconds\n",
      "2023/10/18 09:15:04 PM, INFO, mealpy.evolutionary_based.GA.BaseGA [line: 348]: >Problem: P, Epoch: 157, Current best: 0.993389, Global best: 0.993389, Runtime: 0.04860 seconds\n",
      "2023/10/18 09:15:04 PM, INFO, mealpy.evolutionary_based.GA.BaseGA [line: 348]: >Problem: P, Epoch: 158, Current best: 0.980731, Global best: 0.993389, Runtime: 0.04989 seconds\n",
      "2023/10/18 09:15:04 PM, INFO, mealpy.evolutionary_based.GA.BaseGA [line: 348]: >Problem: P, Epoch: 159, Current best: 0.986766, Global best: 0.993389, Runtime: 0.05425 seconds\n",
      "2023/10/18 09:15:04 PM, INFO, mealpy.evolutionary_based.GA.BaseGA [line: 348]: >Problem: P, Epoch: 160, Current best: 0.986766, Global best: 0.993389, Runtime: 0.05432 seconds\n",
      "2023/10/18 09:15:04 PM, INFO, mealpy.evolutionary_based.GA.BaseGA [line: 348]: >Problem: P, Epoch: 161, Current best: 0.986766, Global best: 0.993389, Runtime: 0.05405 seconds\n",
      "2023/10/18 09:15:04 PM, INFO, mealpy.evolutionary_based.GA.BaseGA [line: 348]: >Problem: P, Epoch: 162, Current best: 0.987352, Global best: 0.993389, Runtime: 0.05388 seconds\n",
      "2023/10/18 09:15:04 PM, INFO, mealpy.evolutionary_based.GA.BaseGA [line: 348]: >Problem: P, Epoch: 163, Current best: 0.98708, Global best: 0.993389, Runtime: 0.05401 seconds\n",
      "2023/10/18 09:15:04 PM, INFO, mealpy.evolutionary_based.GA.BaseGA [line: 348]: >Problem: P, Epoch: 164, Current best: 0.987425, Global best: 0.993389, Runtime: 0.05025 seconds\n",
      "2023/10/18 09:15:04 PM, INFO, mealpy.evolutionary_based.GA.BaseGA [line: 348]: >Problem: P, Epoch: 165, Current best: 0.98708, Global best: 0.993389, Runtime: 0.04975 seconds\n",
      "2023/10/18 09:15:04 PM, INFO, mealpy.evolutionary_based.GA.BaseGA [line: 348]: >Problem: P, Epoch: 166, Current best: 0.986766, Global best: 0.993389, Runtime: 0.04820 seconds\n",
      "2023/10/18 09:15:04 PM, INFO, mealpy.evolutionary_based.GA.BaseGA [line: 348]: >Problem: P, Epoch: 167, Current best: 0.98708, Global best: 0.993389, Runtime: 0.05324 seconds\n",
      "2023/10/18 09:15:04 PM, INFO, mealpy.evolutionary_based.GA.BaseGA [line: 348]: >Problem: P, Epoch: 168, Current best: 0.993389, Global best: 0.993389, Runtime: 0.05618 seconds\n",
      "2023/10/18 09:15:04 PM, INFO, mealpy.evolutionary_based.GA.BaseGA [line: 348]: >Problem: P, Epoch: 169, Current best: 0.993389, Global best: 0.993389, Runtime: 0.05397 seconds\n",
      "2023/10/18 09:15:05 PM, INFO, mealpy.evolutionary_based.GA.BaseGA [line: 348]: >Problem: P, Epoch: 170, Current best: 0.993389, Global best: 0.993389, Runtime: 0.05336 seconds\n",
      "2023/10/18 09:15:05 PM, INFO, mealpy.evolutionary_based.GA.BaseGA [line: 348]: >Problem: P, Epoch: 171, Current best: 0.993389, Global best: 0.993389, Runtime: 0.05377 seconds\n",
      "2023/10/18 09:15:05 PM, INFO, mealpy.evolutionary_based.GA.BaseGA [line: 348]: >Problem: P, Epoch: 172, Current best: 0.993389, Global best: 0.993389, Runtime: 0.04957 seconds\n",
      "2023/10/18 09:15:05 PM, INFO, mealpy.evolutionary_based.GA.BaseGA [line: 348]: >Problem: P, Epoch: 173, Current best: 0.993389, Global best: 0.993389, Runtime: 0.04926 seconds\n",
      "2023/10/18 09:15:05 PM, INFO, mealpy.evolutionary_based.GA.BaseGA [line: 348]: >Problem: P, Epoch: 174, Current best: 0.993389, Global best: 0.993389, Runtime: 0.05171 seconds\n",
      "2023/10/18 09:15:05 PM, INFO, mealpy.evolutionary_based.GA.BaseGA [line: 348]: >Problem: P, Epoch: 175, Current best: 0.993389, Global best: 0.993389, Runtime: 0.05405 seconds\n",
      "2023/10/18 09:15:05 PM, INFO, mealpy.evolutionary_based.GA.BaseGA [line: 348]: >Problem: P, Epoch: 176, Current best: 0.993389, Global best: 0.993389, Runtime: 0.05426 seconds\n",
      "2023/10/18 09:15:05 PM, INFO, mealpy.evolutionary_based.GA.BaseGA [line: 348]: >Problem: P, Epoch: 177, Current best: 0.993389, Global best: 0.993389, Runtime: 0.05439 seconds\n",
      "2023/10/18 09:15:05 PM, INFO, mealpy.evolutionary_based.GA.BaseGA [line: 348]: >Problem: P, Epoch: 178, Current best: 0.993389, Global best: 0.993389, Runtime: 0.05407 seconds\n",
      "2023/10/18 09:15:05 PM, INFO, mealpy.evolutionary_based.GA.BaseGA [line: 348]: >Problem: P, Epoch: 179, Current best: 0.993389, Global best: 0.993389, Runtime: 0.05135 seconds\n",
      "2023/10/18 09:15:05 PM, INFO, mealpy.evolutionary_based.GA.BaseGA [line: 348]: >Problem: P, Epoch: 180, Current best: 0.993389, Global best: 0.993389, Runtime: 0.04938 seconds\n",
      "2023/10/18 09:15:05 PM, INFO, mealpy.evolutionary_based.GA.BaseGA [line: 348]: >Problem: P, Epoch: 181, Current best: 0.994024, Global best: 0.994024, Runtime: 0.05083 seconds\n",
      "2023/10/18 09:15:05 PM, INFO, mealpy.evolutionary_based.GA.BaseGA [line: 348]: >Problem: P, Epoch: 182, Current best: 0.994024, Global best: 0.994024, Runtime: 0.04887 seconds\n",
      "2023/10/18 09:15:05 PM, INFO, mealpy.evolutionary_based.GA.BaseGA [line: 348]: >Problem: P, Epoch: 183, Current best: 0.994024, Global best: 0.994024, Runtime: 0.04916 seconds\n",
      "2023/10/18 09:15:05 PM, INFO, mealpy.evolutionary_based.GA.BaseGA [line: 348]: >Problem: P, Epoch: 184, Current best: 0.993389, Global best: 0.994024, Runtime: 0.05002 seconds\n",
      "2023/10/18 09:15:05 PM, INFO, mealpy.evolutionary_based.GA.BaseGA [line: 348]: >Problem: P, Epoch: 185, Current best: 0.993389, Global best: 0.994024, Runtime: 0.05379 seconds\n",
      "2023/10/18 09:15:05 PM, INFO, mealpy.evolutionary_based.GA.BaseGA [line: 348]: >Problem: P, Epoch: 186, Current best: 0.993389, Global best: 0.994024, Runtime: 0.05552 seconds\n",
      "2023/10/18 09:15:05 PM, INFO, mealpy.evolutionary_based.GA.BaseGA [line: 348]: >Problem: P, Epoch: 187, Current best: 0.993389, Global best: 0.994024, Runtime: 0.05318 seconds\n",
      "2023/10/18 09:15:05 PM, INFO, mealpy.evolutionary_based.GA.BaseGA [line: 348]: >Problem: P, Epoch: 188, Current best: 0.993389, Global best: 0.994024, Runtime: 0.05311 seconds\n"
     ]
    },
    {
     "name": "stderr",
     "output_type": "stream",
     "text": [
      "2023/10/18 09:15:06 PM, INFO, mealpy.evolutionary_based.GA.BaseGA [line: 348]: >Problem: P, Epoch: 189, Current best: 0.993389, Global best: 0.994024, Runtime: 0.05383 seconds\n",
      "2023/10/18 09:15:06 PM, INFO, mealpy.evolutionary_based.GA.BaseGA [line: 348]: >Problem: P, Epoch: 190, Current best: 0.993389, Global best: 0.994024, Runtime: 0.05197 seconds\n",
      "2023/10/18 09:15:06 PM, INFO, mealpy.evolutionary_based.GA.BaseGA [line: 348]: >Problem: P, Epoch: 191, Current best: 0.993389, Global best: 0.994024, Runtime: 0.05001 seconds\n",
      "2023/10/18 09:15:06 PM, INFO, mealpy.evolutionary_based.GA.BaseGA [line: 348]: >Problem: P, Epoch: 192, Current best: 0.993389, Global best: 0.994024, Runtime: 0.04869 seconds\n",
      "2023/10/18 09:15:06 PM, INFO, mealpy.evolutionary_based.GA.BaseGA [line: 348]: >Problem: P, Epoch: 193, Current best: 0.993389, Global best: 0.994024, Runtime: 0.04973 seconds\n",
      "2023/10/18 09:15:06 PM, INFO, mealpy.evolutionary_based.GA.BaseGA [line: 348]: >Problem: P, Epoch: 194, Current best: 0.994024, Global best: 0.994024, Runtime: 0.05389 seconds\n",
      "2023/10/18 09:15:06 PM, INFO, mealpy.evolutionary_based.GA.BaseGA [line: 348]: >Problem: P, Epoch: 195, Current best: 0.993389, Global best: 0.994024, Runtime: 0.05403 seconds\n",
      "2023/10/18 09:15:06 PM, INFO, mealpy.evolutionary_based.GA.BaseGA [line: 348]: >Problem: P, Epoch: 196, Current best: 0.993389, Global best: 0.994024, Runtime: 0.05426 seconds\n",
      "2023/10/18 09:15:06 PM, INFO, mealpy.evolutionary_based.GA.BaseGA [line: 348]: >Problem: P, Epoch: 197, Current best: 0.993389, Global best: 0.994024, Runtime: 0.05433 seconds\n",
      "2023/10/18 09:15:06 PM, INFO, mealpy.evolutionary_based.GA.BaseGA [line: 348]: >Problem: P, Epoch: 198, Current best: 0.987425, Global best: 0.994024, Runtime: 0.05324 seconds\n",
      "2023/10/18 09:15:06 PM, INFO, mealpy.evolutionary_based.GA.BaseGA [line: 348]: >Problem: P, Epoch: 199, Current best: 0.993389, Global best: 0.994024, Runtime: 0.05124 seconds\n",
      "2023/10/18 09:15:06 PM, INFO, mealpy.evolutionary_based.GA.BaseGA [line: 348]: >Problem: P, Epoch: 200, Current best: 0.993389, Global best: 0.994024, Runtime: 0.05016 seconds\n",
      "2023/10/18 09:15:06 PM, INFO, mealpy.evolutionary_based.GA.BaseGA [line: 348]: >Problem: P, Epoch: 201, Current best: 0.993389, Global best: 0.994024, Runtime: 0.05086 seconds\n",
      "2023/10/18 09:15:06 PM, INFO, mealpy.evolutionary_based.GA.BaseGA [line: 348]: >Problem: P, Epoch: 202, Current best: 0.993389, Global best: 0.994024, Runtime: 0.05459 seconds\n",
      "2023/10/18 09:15:06 PM, INFO, mealpy.evolutionary_based.GA.BaseGA [line: 348]: >Problem: P, Epoch: 203, Current best: 0.993389, Global best: 0.994024, Runtime: 0.05569 seconds\n",
      "2023/10/18 09:15:06 PM, INFO, mealpy.evolutionary_based.GA.BaseGA [line: 348]: >Problem: P, Epoch: 204, Current best: 0.993389, Global best: 0.994024, Runtime: 0.05505 seconds\n",
      "2023/10/18 09:15:06 PM, INFO, mealpy.evolutionary_based.GA.BaseGA [line: 348]: >Problem: P, Epoch: 205, Current best: 0.993389, Global best: 0.994024, Runtime: 0.05484 seconds\n",
      "2023/10/18 09:15:06 PM, INFO, mealpy.evolutionary_based.GA.BaseGA [line: 348]: >Problem: P, Epoch: 206, Current best: 0.993389, Global best: 0.994024, Runtime: 0.05204 seconds\n",
      "2023/10/18 09:15:07 PM, INFO, mealpy.evolutionary_based.GA.BaseGA [line: 348]: >Problem: P, Epoch: 207, Current best: 0.987425, Global best: 0.994024, Runtime: 0.04986 seconds\n",
      "2023/10/18 09:15:07 PM, INFO, mealpy.evolutionary_based.GA.BaseGA [line: 348]: >Problem: P, Epoch: 208, Current best: 0.98708, Global best: 0.994024, Runtime: 0.05283 seconds\n",
      "2023/10/18 09:15:07 PM, INFO, mealpy.evolutionary_based.GA.BaseGA [line: 348]: >Problem: P, Epoch: 209, Current best: 0.987174, Global best: 0.994024, Runtime: 0.05431 seconds\n",
      "2023/10/18 09:15:07 PM, INFO, mealpy.evolutionary_based.GA.BaseGA [line: 348]: >Problem: P, Epoch: 210, Current best: 0.993389, Global best: 0.994024, Runtime: 0.05532 seconds\n",
      "2023/10/18 09:15:07 PM, INFO, mealpy.evolutionary_based.GA.BaseGA [line: 348]: >Problem: P, Epoch: 211, Current best: 0.993389, Global best: 0.994024, Runtime: 0.05331 seconds\n",
      "2023/10/18 09:15:07 PM, INFO, mealpy.evolutionary_based.GA.BaseGA [line: 348]: >Problem: P, Epoch: 212, Current best: 0.993389, Global best: 0.994024, Runtime: 0.05314 seconds\n",
      "2023/10/18 09:15:07 PM, INFO, mealpy.evolutionary_based.GA.BaseGA [line: 348]: >Problem: P, Epoch: 213, Current best: 0.993389, Global best: 0.994024, Runtime: 0.05127 seconds\n",
      "2023/10/18 09:15:07 PM, INFO, mealpy.evolutionary_based.GA.BaseGA [line: 348]: >Problem: P, Epoch: 214, Current best: 0.987352, Global best: 0.994024, Runtime: 0.05306 seconds\n",
      "2023/10/18 09:15:07 PM, INFO, mealpy.evolutionary_based.GA.BaseGA [line: 348]: >Problem: P, Epoch: 215, Current best: 0.993389, Global best: 0.994024, Runtime: 0.05520 seconds\n",
      "2023/10/18 09:15:07 PM, INFO, mealpy.evolutionary_based.GA.BaseGA [line: 348]: >Problem: P, Epoch: 216, Current best: 0.993389, Global best: 0.994024, Runtime: 0.05497 seconds\n",
      "2023/10/18 09:15:07 PM, INFO, mealpy.evolutionary_based.GA.BaseGA [line: 348]: >Problem: P, Epoch: 217, Current best: 0.993389, Global best: 0.994024, Runtime: 0.05284 seconds\n",
      "2023/10/18 09:15:07 PM, INFO, mealpy.evolutionary_based.GA.BaseGA [line: 348]: >Problem: P, Epoch: 218, Current best: 0.993389, Global best: 0.994024, Runtime: 0.05258 seconds\n",
      "2023/10/18 09:15:07 PM, INFO, mealpy.evolutionary_based.GA.BaseGA [line: 348]: >Problem: P, Epoch: 219, Current best: 0.993389, Global best: 0.994024, Runtime: 0.04995 seconds\n",
      "2023/10/18 09:15:07 PM, INFO, mealpy.evolutionary_based.GA.BaseGA [line: 348]: >Problem: P, Epoch: 220, Current best: 0.993389, Global best: 0.994024, Runtime: 0.04862 seconds\n",
      "2023/10/18 09:15:07 PM, INFO, mealpy.evolutionary_based.GA.BaseGA [line: 348]: >Problem: P, Epoch: 221, Current best: 0.993389, Global best: 0.994024, Runtime: 0.04944 seconds\n",
      "2023/10/18 09:15:07 PM, INFO, mealpy.evolutionary_based.GA.BaseGA [line: 348]: >Problem: P, Epoch: 222, Current best: 0.993389, Global best: 0.994024, Runtime: 0.05475 seconds\n",
      "2023/10/18 09:15:07 PM, INFO, mealpy.evolutionary_based.GA.BaseGA [line: 348]: >Problem: P, Epoch: 223, Current best: 0.993389, Global best: 0.994024, Runtime: 0.05260 seconds\n",
      "2023/10/18 09:15:07 PM, INFO, mealpy.evolutionary_based.GA.BaseGA [line: 348]: >Problem: P, Epoch: 224, Current best: 0.993389, Global best: 0.994024, Runtime: 0.05428 seconds\n",
      "2023/10/18 09:15:07 PM, INFO, mealpy.evolutionary_based.GA.BaseGA [line: 348]: >Problem: P, Epoch: 225, Current best: 0.993389, Global best: 0.994024, Runtime: 0.05336 seconds\n",
      "2023/10/18 09:15:08 PM, INFO, mealpy.evolutionary_based.GA.BaseGA [line: 348]: >Problem: P, Epoch: 226, Current best: 0.993389, Global best: 0.994024, Runtime: 0.05048 seconds\n",
      "2023/10/18 09:15:08 PM, INFO, mealpy.evolutionary_based.GA.BaseGA [line: 348]: >Problem: P, Epoch: 227, Current best: 0.993389, Global best: 0.994024, Runtime: 0.05007 seconds\n",
      "2023/10/18 09:15:08 PM, INFO, mealpy.evolutionary_based.GA.BaseGA [line: 348]: >Problem: P, Epoch: 228, Current best: 0.993389, Global best: 0.994024, Runtime: 0.05337 seconds\n",
      "2023/10/18 09:15:08 PM, INFO, mealpy.evolutionary_based.GA.BaseGA [line: 348]: >Problem: P, Epoch: 229, Current best: 0.993389, Global best: 0.994024, Runtime: 0.05444 seconds\n",
      "2023/10/18 09:15:08 PM, INFO, mealpy.evolutionary_based.GA.BaseGA [line: 348]: >Problem: P, Epoch: 230, Current best: 0.993389, Global best: 0.994024, Runtime: 0.05503 seconds\n",
      "2023/10/18 09:15:08 PM, INFO, mealpy.evolutionary_based.GA.BaseGA [line: 348]: >Problem: P, Epoch: 231, Current best: 0.993389, Global best: 0.994024, Runtime: 0.05632 seconds\n",
      "2023/10/18 09:15:08 PM, INFO, mealpy.evolutionary_based.GA.BaseGA [line: 348]: >Problem: P, Epoch: 232, Current best: 0.993389, Global best: 0.994024, Runtime: 0.05407 seconds\n",
      "2023/10/18 09:15:08 PM, INFO, mealpy.evolutionary_based.GA.BaseGA [line: 348]: >Problem: P, Epoch: 233, Current best: 0.993389, Global best: 0.994024, Runtime: 0.05119 seconds\n",
      "2023/10/18 09:15:08 PM, INFO, mealpy.evolutionary_based.GA.BaseGA [line: 348]: >Problem: P, Epoch: 234, Current best: 0.993389, Global best: 0.994024, Runtime: 0.04965 seconds\n",
      "2023/10/18 09:15:08 PM, INFO, mealpy.evolutionary_based.GA.BaseGA [line: 348]: >Problem: P, Epoch: 235, Current best: 0.993389, Global best: 0.994024, Runtime: 0.05047 seconds\n"
     ]
    },
    {
     "name": "stderr",
     "output_type": "stream",
     "text": [
      "2023/10/18 09:15:08 PM, INFO, mealpy.evolutionary_based.GA.BaseGA [line: 348]: >Problem: P, Epoch: 236, Current best: 0.987425, Global best: 0.994024, Runtime: 0.05075 seconds\n",
      "2023/10/18 09:15:08 PM, INFO, mealpy.evolutionary_based.GA.BaseGA [line: 348]: >Problem: P, Epoch: 237, Current best: 0.993389, Global best: 0.994024, Runtime: 0.05516 seconds\n",
      "2023/10/18 09:15:08 PM, INFO, mealpy.evolutionary_based.GA.BaseGA [line: 348]: >Problem: P, Epoch: 238, Current best: 0.993389, Global best: 0.994024, Runtime: 0.05425 seconds\n",
      "2023/10/18 09:15:08 PM, INFO, mealpy.evolutionary_based.GA.BaseGA [line: 348]: >Problem: P, Epoch: 239, Current best: 0.993389, Global best: 0.994024, Runtime: 0.05316 seconds\n",
      "2023/10/18 09:15:08 PM, INFO, mealpy.evolutionary_based.GA.BaseGA [line: 348]: >Problem: P, Epoch: 240, Current best: 0.987352, Global best: 0.994024, Runtime: 0.05335 seconds\n",
      "2023/10/18 09:15:08 PM, INFO, mealpy.evolutionary_based.GA.BaseGA [line: 348]: >Problem: P, Epoch: 241, Current best: 0.98708, Global best: 0.994024, Runtime: 0.05062 seconds\n",
      "2023/10/18 09:15:08 PM, INFO, mealpy.evolutionary_based.GA.BaseGA [line: 348]: >Problem: P, Epoch: 242, Current best: 0.993389, Global best: 0.994024, Runtime: 0.05017 seconds\n",
      "2023/10/18 09:15:08 PM, INFO, mealpy.evolutionary_based.GA.BaseGA [line: 348]: >Problem: P, Epoch: 243, Current best: 0.993389, Global best: 0.994024, Runtime: 0.04930 seconds\n",
      "2023/10/18 09:15:08 PM, INFO, mealpy.evolutionary_based.GA.BaseGA [line: 348]: >Problem: P, Epoch: 244, Current best: 0.993389, Global best: 0.994024, Runtime: 0.05690 seconds\n",
      "2023/10/18 09:15:09 PM, INFO, mealpy.evolutionary_based.GA.BaseGA [line: 348]: >Problem: P, Epoch: 245, Current best: 0.993389, Global best: 0.994024, Runtime: 0.05666 seconds\n",
      "2023/10/18 09:15:09 PM, INFO, mealpy.evolutionary_based.GA.BaseGA [line: 348]: >Problem: P, Epoch: 246, Current best: 0.993389, Global best: 0.994024, Runtime: 0.05413 seconds\n",
      "2023/10/18 09:15:09 PM, INFO, mealpy.evolutionary_based.GA.BaseGA [line: 348]: >Problem: P, Epoch: 247, Current best: 0.987352, Global best: 0.994024, Runtime: 0.05423 seconds\n",
      "2023/10/18 09:15:09 PM, INFO, mealpy.evolutionary_based.GA.BaseGA [line: 348]: >Problem: P, Epoch: 248, Current best: 0.993389, Global best: 0.994024, Runtime: 0.05343 seconds\n",
      "2023/10/18 09:15:09 PM, INFO, mealpy.evolutionary_based.GA.BaseGA [line: 348]: >Problem: P, Epoch: 249, Current best: 0.993389, Global best: 0.994024, Runtime: 0.04883 seconds\n",
      "2023/10/18 09:15:09 PM, INFO, mealpy.evolutionary_based.GA.BaseGA [line: 348]: >Problem: P, Epoch: 250, Current best: 0.993389, Global best: 0.994024, Runtime: 0.04913 seconds\n",
      "2023/10/18 09:15:09 PM, INFO, mealpy.evolutionary_based.GA.BaseGA [line: 348]: >Problem: P, Epoch: 251, Current best: 0.987425, Global best: 0.994024, Runtime: 0.04974 seconds\n",
      "2023/10/18 09:15:09 PM, INFO, mealpy.evolutionary_based.GA.BaseGA [line: 348]: >Problem: P, Epoch: 252, Current best: 0.987425, Global best: 0.994024, Runtime: 0.04877 seconds\n",
      "2023/10/18 09:15:09 PM, INFO, mealpy.evolutionary_based.GA.BaseGA [line: 348]: >Problem: P, Epoch: 253, Current best: 0.987174, Global best: 0.994024, Runtime: 0.04923 seconds\n",
      "2023/10/18 09:15:09 PM, INFO, mealpy.evolutionary_based.GA.BaseGA [line: 348]: >Problem: P, Epoch: 254, Current best: 0.987352, Global best: 0.994024, Runtime: 0.04925 seconds\n",
      "2023/10/18 09:15:09 PM, INFO, mealpy.evolutionary_based.GA.BaseGA [line: 348]: >Problem: P, Epoch: 255, Current best: 0.993389, Global best: 0.994024, Runtime: 0.04911 seconds\n",
      "2023/10/18 09:15:09 PM, INFO, mealpy.evolutionary_based.GA.BaseGA [line: 348]: >Problem: P, Epoch: 256, Current best: 0.993389, Global best: 0.994024, Runtime: 0.04948 seconds\n",
      "2023/10/18 09:15:09 PM, INFO, mealpy.evolutionary_based.GA.BaseGA [line: 348]: >Problem: P, Epoch: 257, Current best: 0.987425, Global best: 0.994024, Runtime: 0.04906 seconds\n",
      "2023/10/18 09:15:09 PM, INFO, mealpy.evolutionary_based.GA.BaseGA [line: 348]: >Problem: P, Epoch: 258, Current best: 0.993389, Global best: 0.994024, Runtime: 0.05123 seconds\n",
      "2023/10/18 09:15:09 PM, INFO, mealpy.evolutionary_based.GA.BaseGA [line: 348]: >Problem: P, Epoch: 259, Current best: 0.993389, Global best: 0.994024, Runtime: 0.04919 seconds\n",
      "2023/10/18 09:15:09 PM, INFO, mealpy.evolutionary_based.GA.BaseGA [line: 348]: >Problem: P, Epoch: 260, Current best: 0.993389, Global best: 0.994024, Runtime: 0.04939 seconds\n",
      "2023/10/18 09:15:09 PM, INFO, mealpy.evolutionary_based.GA.BaseGA [line: 348]: >Problem: P, Epoch: 261, Current best: 0.993389, Global best: 0.994024, Runtime: 0.04843 seconds\n",
      "2023/10/18 09:15:09 PM, INFO, mealpy.evolutionary_based.GA.BaseGA [line: 348]: >Problem: P, Epoch: 262, Current best: 0.993389, Global best: 0.994024, Runtime: 0.04972 seconds\n",
      "2023/10/18 09:15:09 PM, INFO, mealpy.evolutionary_based.GA.BaseGA [line: 348]: >Problem: P, Epoch: 263, Current best: 0.987352, Global best: 0.994024, Runtime: 0.04899 seconds\n",
      "2023/10/18 09:15:10 PM, INFO, mealpy.evolutionary_based.GA.BaseGA [line: 348]: >Problem: P, Epoch: 264, Current best: 0.98708, Global best: 0.994024, Runtime: 0.04916 seconds\n",
      "2023/10/18 09:15:10 PM, INFO, mealpy.evolutionary_based.GA.BaseGA [line: 348]: >Problem: P, Epoch: 265, Current best: 0.986766, Global best: 0.994024, Runtime: 0.04904 seconds\n",
      "2023/10/18 09:15:10 PM, INFO, mealpy.evolutionary_based.GA.BaseGA [line: 348]: >Problem: P, Epoch: 266, Current best: 0.987425, Global best: 0.994024, Runtime: 0.04918 seconds\n",
      "2023/10/18 09:15:10 PM, INFO, mealpy.evolutionary_based.GA.BaseGA [line: 348]: >Problem: P, Epoch: 267, Current best: 0.993389, Global best: 0.994024, Runtime: 0.04809 seconds\n",
      "2023/10/18 09:15:10 PM, INFO, mealpy.evolutionary_based.GA.BaseGA [line: 348]: >Problem: P, Epoch: 268, Current best: 0.993389, Global best: 0.994024, Runtime: 0.04897 seconds\n",
      "2023/10/18 09:15:10 PM, INFO, mealpy.evolutionary_based.GA.BaseGA [line: 348]: >Problem: P, Epoch: 269, Current best: 0.993389, Global best: 0.994024, Runtime: 0.04905 seconds\n",
      "2023/10/18 09:15:10 PM, INFO, mealpy.evolutionary_based.GA.BaseGA [line: 348]: >Problem: P, Epoch: 270, Current best: 0.993389, Global best: 0.994024, Runtime: 0.04863 seconds\n",
      "2023/10/18 09:15:10 PM, INFO, mealpy.evolutionary_based.GA.BaseGA [line: 348]: >Problem: P, Epoch: 271, Current best: 0.993389, Global best: 0.994024, Runtime: 0.04881 seconds\n",
      "2023/10/18 09:15:10 PM, INFO, mealpy.evolutionary_based.GA.BaseGA [line: 348]: >Problem: P, Epoch: 272, Current best: 0.993389, Global best: 0.994024, Runtime: 0.04871 seconds\n",
      "2023/10/18 09:15:10 PM, INFO, mealpy.evolutionary_based.GA.BaseGA [line: 348]: >Problem: P, Epoch: 273, Current best: 0.993389, Global best: 0.994024, Runtime: 0.04926 seconds\n",
      "2023/10/18 09:15:10 PM, INFO, mealpy.evolutionary_based.GA.BaseGA [line: 348]: >Problem: P, Epoch: 274, Current best: 0.993389, Global best: 0.994024, Runtime: 0.04860 seconds\n",
      "2023/10/18 09:15:10 PM, INFO, mealpy.evolutionary_based.GA.BaseGA [line: 348]: >Problem: P, Epoch: 275, Current best: 0.993389, Global best: 0.994024, Runtime: 0.04910 seconds\n",
      "2023/10/18 09:15:10 PM, INFO, mealpy.evolutionary_based.GA.BaseGA [line: 348]: >Problem: P, Epoch: 276, Current best: 0.993389, Global best: 0.994024, Runtime: 0.04868 seconds\n",
      "2023/10/18 09:15:10 PM, INFO, mealpy.evolutionary_based.GA.BaseGA [line: 348]: >Problem: P, Epoch: 277, Current best: 0.987352, Global best: 0.994024, Runtime: 0.04892 seconds\n",
      "2023/10/18 09:15:10 PM, INFO, mealpy.evolutionary_based.GA.BaseGA [line: 348]: >Problem: P, Epoch: 278, Current best: 0.986766, Global best: 0.994024, Runtime: 0.04940 seconds\n",
      "2023/10/18 09:15:10 PM, INFO, mealpy.evolutionary_based.GA.BaseGA [line: 348]: >Problem: P, Epoch: 279, Current best: 0.993389, Global best: 0.994024, Runtime: 0.04893 seconds\n",
      "2023/10/18 09:15:10 PM, INFO, mealpy.evolutionary_based.GA.BaseGA [line: 348]: >Problem: P, Epoch: 280, Current best: 0.993389, Global best: 0.994024, Runtime: 0.04849 seconds\n",
      "2023/10/18 09:15:10 PM, INFO, mealpy.evolutionary_based.GA.BaseGA [line: 348]: >Problem: P, Epoch: 281, Current best: 0.993389, Global best: 0.994024, Runtime: 0.04908 seconds\n",
      "2023/10/18 09:15:10 PM, INFO, mealpy.evolutionary_based.GA.BaseGA [line: 348]: >Problem: P, Epoch: 282, Current best: 0.993389, Global best: 0.994024, Runtime: 0.05293 seconds\n"
     ]
    },
    {
     "name": "stderr",
     "output_type": "stream",
     "text": [
      "2023/10/18 09:15:10 PM, INFO, mealpy.evolutionary_based.GA.BaseGA [line: 348]: >Problem: P, Epoch: 283, Current best: 0.993389, Global best: 0.994024, Runtime: 0.05077 seconds\n",
      "2023/10/18 09:15:11 PM, INFO, mealpy.evolutionary_based.GA.BaseGA [line: 348]: >Problem: P, Epoch: 284, Current best: 0.993389, Global best: 0.994024, Runtime: 0.05054 seconds\n",
      "2023/10/18 09:15:11 PM, INFO, mealpy.evolutionary_based.GA.BaseGA [line: 348]: >Problem: P, Epoch: 285, Current best: 0.993389, Global best: 0.994024, Runtime: 0.05165 seconds\n",
      "2023/10/18 09:15:11 PM, INFO, mealpy.evolutionary_based.GA.BaseGA [line: 348]: >Problem: P, Epoch: 286, Current best: 0.987425, Global best: 0.994024, Runtime: 0.04967 seconds\n",
      "2023/10/18 09:15:11 PM, INFO, mealpy.evolutionary_based.GA.BaseGA [line: 348]: >Problem: P, Epoch: 287, Current best: 0.993389, Global best: 0.994024, Runtime: 0.04967 seconds\n",
      "2023/10/18 09:15:11 PM, INFO, mealpy.evolutionary_based.GA.BaseGA [line: 348]: >Problem: P, Epoch: 288, Current best: 0.993389, Global best: 0.994024, Runtime: 0.04983 seconds\n",
      "2023/10/18 09:15:11 PM, INFO, mealpy.evolutionary_based.GA.BaseGA [line: 348]: >Problem: P, Epoch: 289, Current best: 0.993389, Global best: 0.994024, Runtime: 0.04951 seconds\n",
      "2023/10/18 09:15:11 PM, INFO, mealpy.evolutionary_based.GA.BaseGA [line: 348]: >Problem: P, Epoch: 290, Current best: 0.993389, Global best: 0.994024, Runtime: 0.04984 seconds\n",
      "2023/10/18 09:15:11 PM, INFO, mealpy.evolutionary_based.GA.BaseGA [line: 348]: >Problem: P, Epoch: 291, Current best: 0.987425, Global best: 0.994024, Runtime: 0.05021 seconds\n",
      "2023/10/18 09:15:11 PM, INFO, mealpy.evolutionary_based.GA.BaseGA [line: 348]: >Problem: P, Epoch: 292, Current best: 0.987174, Global best: 0.994024, Runtime: 0.04963 seconds\n",
      "2023/10/18 09:15:11 PM, INFO, mealpy.evolutionary_based.GA.BaseGA [line: 348]: >Problem: P, Epoch: 293, Current best: 0.987425, Global best: 0.994024, Runtime: 0.04910 seconds\n",
      "2023/10/18 09:15:11 PM, INFO, mealpy.evolutionary_based.GA.BaseGA [line: 348]: >Problem: P, Epoch: 294, Current best: 0.993389, Global best: 0.994024, Runtime: 0.04978 seconds\n",
      "2023/10/18 09:15:11 PM, INFO, mealpy.evolutionary_based.GA.BaseGA [line: 348]: >Problem: P, Epoch: 295, Current best: 0.993389, Global best: 0.994024, Runtime: 0.04939 seconds\n",
      "2023/10/18 09:15:11 PM, INFO, mealpy.evolutionary_based.GA.BaseGA [line: 348]: >Problem: P, Epoch: 296, Current best: 0.987352, Global best: 0.994024, Runtime: 0.04807 seconds\n",
      "2023/10/18 09:15:11 PM, INFO, mealpy.evolutionary_based.GA.BaseGA [line: 348]: >Problem: P, Epoch: 297, Current best: 0.993389, Global best: 0.994024, Runtime: 0.05030 seconds\n",
      "2023/10/18 09:15:11 PM, INFO, mealpy.evolutionary_based.GA.BaseGA [line: 348]: >Problem: P, Epoch: 298, Current best: 0.993389, Global best: 0.994024, Runtime: 0.04932 seconds\n",
      "2023/10/18 09:15:11 PM, INFO, mealpy.evolutionary_based.GA.BaseGA [line: 348]: >Problem: P, Epoch: 299, Current best: 0.986766, Global best: 0.994024, Runtime: 0.04906 seconds\n",
      "2023/10/18 09:15:11 PM, INFO, mealpy.evolutionary_based.GA.BaseGA [line: 348]: >Problem: P, Epoch: 300, Current best: 0.987352, Global best: 0.994024, Runtime: 0.04890 seconds\n",
      "2023/10/18 09:15:11 PM, INFO, mealpy.evolutionary_based.GA.BaseGA [line: 348]: >Problem: P, Epoch: 301, Current best: 0.993389, Global best: 0.994024, Runtime: 0.05036 seconds\n",
      "2023/10/18 09:15:11 PM, INFO, mealpy.evolutionary_based.GA.BaseGA [line: 348]: >Problem: P, Epoch: 302, Current best: 0.993389, Global best: 0.994024, Runtime: 0.04934 seconds\n",
      "2023/10/18 09:15:11 PM, INFO, mealpy.evolutionary_based.GA.BaseGA [line: 348]: >Problem: P, Epoch: 303, Current best: 0.987425, Global best: 0.994024, Runtime: 0.05022 seconds\n",
      "2023/10/18 09:15:12 PM, INFO, mealpy.evolutionary_based.GA.BaseGA [line: 348]: >Problem: P, Epoch: 304, Current best: 0.986766, Global best: 0.994024, Runtime: 0.05531 seconds\n",
      "2023/10/18 09:15:12 PM, INFO, mealpy.evolutionary_based.GA.BaseGA [line: 348]: >Problem: P, Epoch: 305, Current best: 0.986766, Global best: 0.994024, Runtime: 0.05489 seconds\n",
      "2023/10/18 09:15:12 PM, INFO, mealpy.evolutionary_based.GA.BaseGA [line: 348]: >Problem: P, Epoch: 306, Current best: 0.986766, Global best: 0.994024, Runtime: 0.05521 seconds\n",
      "2023/10/18 09:15:12 PM, INFO, mealpy.evolutionary_based.GA.BaseGA [line: 348]: >Problem: P, Epoch: 307, Current best: 0.986766, Global best: 0.994024, Runtime: 0.05735 seconds\n",
      "2023/10/18 09:15:12 PM, INFO, mealpy.evolutionary_based.GA.BaseGA [line: 348]: >Problem: P, Epoch: 308, Current best: 0.993389, Global best: 0.994024, Runtime: 0.05394 seconds\n",
      "2023/10/18 09:15:12 PM, INFO, mealpy.evolutionary_based.GA.BaseGA [line: 348]: >Problem: P, Epoch: 309, Current best: 0.993389, Global best: 0.994024, Runtime: 0.05146 seconds\n",
      "2023/10/18 09:15:12 PM, INFO, mealpy.evolutionary_based.GA.BaseGA [line: 348]: >Problem: P, Epoch: 310, Current best: 0.987352, Global best: 0.994024, Runtime: 0.05946 seconds\n",
      "2023/10/18 09:15:12 PM, INFO, mealpy.evolutionary_based.GA.BaseGA [line: 348]: >Problem: P, Epoch: 311, Current best: 0.993389, Global best: 0.994024, Runtime: 0.05930 seconds\n",
      "2023/10/18 09:15:12 PM, INFO, mealpy.evolutionary_based.GA.BaseGA [line: 348]: >Problem: P, Epoch: 312, Current best: 0.993389, Global best: 0.994024, Runtime: 0.05787 seconds\n",
      "2023/10/18 09:15:12 PM, INFO, mealpy.evolutionary_based.GA.BaseGA [line: 348]: >Problem: P, Epoch: 313, Current best: 0.993389, Global best: 0.994024, Runtime: 0.05166 seconds\n",
      "2023/10/18 09:15:12 PM, INFO, mealpy.evolutionary_based.GA.BaseGA [line: 348]: >Problem: P, Epoch: 314, Current best: 0.993389, Global best: 0.994024, Runtime: 0.04896 seconds\n",
      "2023/10/18 09:15:12 PM, INFO, mealpy.evolutionary_based.GA.BaseGA [line: 348]: >Problem: P, Epoch: 315, Current best: 0.993389, Global best: 0.994024, Runtime: 0.04915 seconds\n",
      "2023/10/18 09:15:12 PM, INFO, mealpy.evolutionary_based.GA.BaseGA [line: 348]: >Problem: P, Epoch: 316, Current best: 0.993389, Global best: 0.994024, Runtime: 0.04969 seconds\n",
      "2023/10/18 09:15:12 PM, INFO, mealpy.evolutionary_based.GA.BaseGA [line: 348]: >Problem: P, Epoch: 317, Current best: 0.993389, Global best: 0.994024, Runtime: 0.05955 seconds\n",
      "2023/10/18 09:15:12 PM, INFO, mealpy.evolutionary_based.GA.BaseGA [line: 348]: >Problem: P, Epoch: 318, Current best: 0.986766, Global best: 0.994024, Runtime: 0.05883 seconds\n",
      "2023/10/18 09:15:12 PM, INFO, mealpy.evolutionary_based.GA.BaseGA [line: 348]: >Problem: P, Epoch: 319, Current best: 0.993389, Global best: 0.994024, Runtime: 0.05635 seconds\n",
      "2023/10/18 09:15:12 PM, INFO, mealpy.evolutionary_based.GA.BaseGA [line: 348]: >Problem: P, Epoch: 320, Current best: 0.986766, Global best: 0.994024, Runtime: 0.05403 seconds\n",
      "2023/10/18 09:15:12 PM, INFO, mealpy.evolutionary_based.GA.BaseGA [line: 348]: >Problem: P, Epoch: 321, Current best: 0.987174, Global best: 0.994024, Runtime: 0.05073 seconds\n",
      "2023/10/18 09:15:13 PM, INFO, mealpy.evolutionary_based.GA.BaseGA [line: 348]: >Problem: P, Epoch: 322, Current best: 0.986766, Global best: 0.994024, Runtime: 0.04999 seconds\n",
      "2023/10/18 09:15:13 PM, INFO, mealpy.evolutionary_based.GA.BaseGA [line: 348]: >Problem: P, Epoch: 323, Current best: 0.993389, Global best: 0.994024, Runtime: 0.04896 seconds\n",
      "2023/10/18 09:15:13 PM, INFO, mealpy.evolutionary_based.GA.BaseGA [line: 348]: >Problem: P, Epoch: 324, Current best: 0.993389, Global best: 0.994024, Runtime: 0.04787 seconds\n",
      "2023/10/18 09:15:13 PM, INFO, mealpy.evolutionary_based.GA.BaseGA [line: 348]: >Problem: P, Epoch: 325, Current best: 0.993389, Global best: 0.994024, Runtime: 0.05382 seconds\n",
      "2023/10/18 09:15:13 PM, INFO, mealpy.evolutionary_based.GA.BaseGA [line: 348]: >Problem: P, Epoch: 326, Current best: 0.98708, Global best: 0.994024, Runtime: 0.05811 seconds\n",
      "2023/10/18 09:15:13 PM, INFO, mealpy.evolutionary_based.GA.BaseGA [line: 348]: >Problem: P, Epoch: 327, Current best: 0.987352, Global best: 0.994024, Runtime: 0.05414 seconds\n",
      "2023/10/18 09:15:13 PM, INFO, mealpy.evolutionary_based.GA.BaseGA [line: 348]: >Problem: P, Epoch: 328, Current best: 0.986766, Global best: 0.994024, Runtime: 0.05665 seconds\n",
      "2023/10/18 09:15:13 PM, INFO, mealpy.evolutionary_based.GA.BaseGA [line: 348]: >Problem: P, Epoch: 329, Current best: 0.987174, Global best: 0.994024, Runtime: 0.05322 seconds\n"
     ]
    },
    {
     "name": "stderr",
     "output_type": "stream",
     "text": [
      "2023/10/18 09:15:13 PM, INFO, mealpy.evolutionary_based.GA.BaseGA [line: 348]: >Problem: P, Epoch: 330, Current best: 0.98109, Global best: 0.994024, Runtime: 0.04837 seconds\n",
      "2023/10/18 09:15:13 PM, INFO, mealpy.evolutionary_based.GA.BaseGA [line: 348]: >Problem: P, Epoch: 331, Current best: 0.987425, Global best: 0.994024, Runtime: 0.04870 seconds\n",
      "2023/10/18 09:15:13 PM, INFO, mealpy.evolutionary_based.GA.BaseGA [line: 348]: >Problem: P, Epoch: 332, Current best: 0.986766, Global best: 0.994024, Runtime: 0.04881 seconds\n",
      "2023/10/18 09:15:13 PM, INFO, mealpy.evolutionary_based.GA.BaseGA [line: 348]: >Problem: P, Epoch: 333, Current best: 0.986766, Global best: 0.994024, Runtime: 0.04871 seconds\n",
      "2023/10/18 09:15:13 PM, INFO, mealpy.evolutionary_based.GA.BaseGA [line: 348]: >Problem: P, Epoch: 334, Current best: 0.986766, Global best: 0.994024, Runtime: 0.04944 seconds\n",
      "2023/10/18 09:15:13 PM, INFO, mealpy.evolutionary_based.GA.BaseGA [line: 348]: >Problem: P, Epoch: 335, Current best: 0.986787, Global best: 0.994024, Runtime: 0.04894 seconds\n",
      "2023/10/18 09:15:13 PM, INFO, mealpy.evolutionary_based.GA.BaseGA [line: 348]: >Problem: P, Epoch: 336, Current best: 0.986766, Global best: 0.994024, Runtime: 0.04948 seconds\n",
      "2023/10/18 09:15:13 PM, INFO, mealpy.evolutionary_based.GA.BaseGA [line: 348]: >Problem: P, Epoch: 337, Current best: 0.986766, Global best: 0.994024, Runtime: 0.04980 seconds\n",
      "2023/10/18 09:15:13 PM, INFO, mealpy.evolutionary_based.GA.BaseGA [line: 348]: >Problem: P, Epoch: 338, Current best: 0.986766, Global best: 0.994024, Runtime: 0.05001 seconds\n",
      "2023/10/18 09:15:13 PM, INFO, mealpy.evolutionary_based.GA.BaseGA [line: 348]: >Problem: P, Epoch: 339, Current best: 0.987761, Global best: 0.994024, Runtime: 0.05053 seconds\n",
      "2023/10/18 09:15:13 PM, INFO, mealpy.evolutionary_based.GA.BaseGA [line: 348]: >Problem: P, Epoch: 340, Current best: 0.986766, Global best: 0.994024, Runtime: 0.04999 seconds\n",
      "2023/10/18 09:15:14 PM, INFO, mealpy.evolutionary_based.GA.BaseGA [line: 348]: >Problem: P, Epoch: 341, Current best: 0.986766, Global best: 0.994024, Runtime: 0.05056 seconds\n",
      "2023/10/18 09:15:14 PM, INFO, mealpy.evolutionary_based.GA.BaseGA [line: 348]: >Problem: P, Epoch: 342, Current best: 0.986766, Global best: 0.994024, Runtime: 0.05000 seconds\n",
      "2023/10/18 09:15:14 PM, INFO, mealpy.evolutionary_based.GA.BaseGA [line: 348]: >Problem: P, Epoch: 343, Current best: 0.986766, Global best: 0.994024, Runtime: 0.04973 seconds\n",
      "2023/10/18 09:15:14 PM, INFO, mealpy.evolutionary_based.GA.BaseGA [line: 348]: >Problem: P, Epoch: 344, Current best: 0.986766, Global best: 0.994024, Runtime: 0.04885 seconds\n",
      "2023/10/18 09:15:14 PM, INFO, mealpy.evolutionary_based.GA.BaseGA [line: 348]: >Problem: P, Epoch: 345, Current best: 0.986991, Global best: 0.994024, Runtime: 0.04850 seconds\n",
      "2023/10/18 09:15:14 PM, INFO, mealpy.evolutionary_based.GA.BaseGA [line: 348]: >Problem: P, Epoch: 346, Current best: 0.98708, Global best: 0.994024, Runtime: 0.04874 seconds\n",
      "2023/10/18 09:15:14 PM, INFO, mealpy.evolutionary_based.GA.BaseGA [line: 348]: >Problem: P, Epoch: 347, Current best: 0.986766, Global best: 0.994024, Runtime: 0.04987 seconds\n",
      "2023/10/18 09:15:14 PM, INFO, mealpy.evolutionary_based.GA.BaseGA [line: 348]: >Problem: P, Epoch: 348, Current best: 0.986766, Global best: 0.994024, Runtime: 0.05845 seconds\n",
      "2023/10/18 09:15:14 PM, INFO, mealpy.evolutionary_based.GA.BaseGA [line: 348]: >Problem: P, Epoch: 349, Current best: 0.986766, Global best: 0.994024, Runtime: 0.05471 seconds\n",
      "2023/10/18 09:15:14 PM, INFO, mealpy.evolutionary_based.GA.BaseGA [line: 348]: >Problem: P, Epoch: 350, Current best: 0.986766, Global best: 0.994024, Runtime: 0.05660 seconds\n",
      "2023/10/18 09:15:14 PM, INFO, mealpy.evolutionary_based.GA.BaseGA [line: 348]: >Problem: P, Epoch: 351, Current best: 0.98708, Global best: 0.994024, Runtime: 0.05753 seconds\n",
      "2023/10/18 09:15:14 PM, INFO, mealpy.evolutionary_based.GA.BaseGA [line: 348]: >Problem: P, Epoch: 352, Current best: 0.993389, Global best: 0.994024, Runtime: 0.05332 seconds\n",
      "2023/10/18 09:15:14 PM, INFO, mealpy.evolutionary_based.GA.BaseGA [line: 348]: >Problem: P, Epoch: 353, Current best: 0.986766, Global best: 0.994024, Runtime: 0.05007 seconds\n",
      "2023/10/18 09:15:14 PM, INFO, mealpy.evolutionary_based.GA.BaseGA [line: 348]: >Problem: P, Epoch: 354, Current best: 0.986766, Global best: 0.994024, Runtime: 0.04908 seconds\n",
      "2023/10/18 09:15:14 PM, INFO, mealpy.evolutionary_based.GA.BaseGA [line: 348]: >Problem: P, Epoch: 355, Current best: 0.987352, Global best: 0.994024, Runtime: 0.04852 seconds\n",
      "2023/10/18 09:15:14 PM, INFO, mealpy.evolutionary_based.GA.BaseGA [line: 348]: >Problem: P, Epoch: 356, Current best: 0.98708, Global best: 0.994024, Runtime: 0.05201 seconds\n",
      "2023/10/18 09:15:14 PM, INFO, mealpy.evolutionary_based.GA.BaseGA [line: 348]: >Problem: P, Epoch: 357, Current best: 0.993389, Global best: 0.994024, Runtime: 0.05872 seconds\n",
      "2023/10/18 09:15:14 PM, INFO, mealpy.evolutionary_based.GA.BaseGA [line: 348]: >Problem: P, Epoch: 358, Current best: 0.986766, Global best: 0.994024, Runtime: 0.05296 seconds\n",
      "2023/10/18 09:15:14 PM, INFO, mealpy.evolutionary_based.GA.BaseGA [line: 348]: >Problem: P, Epoch: 359, Current best: 0.986766, Global best: 0.994024, Runtime: 0.05112 seconds\n",
      "2023/10/18 09:15:15 PM, INFO, mealpy.evolutionary_based.GA.BaseGA [line: 348]: >Problem: P, Epoch: 360, Current best: 0.986766, Global best: 0.994024, Runtime: 0.04989 seconds\n",
      "2023/10/18 09:15:15 PM, INFO, mealpy.evolutionary_based.GA.BaseGA [line: 348]: >Problem: P, Epoch: 361, Current best: 0.986766, Global best: 0.994024, Runtime: 0.04973 seconds\n",
      "2023/10/18 09:15:15 PM, INFO, mealpy.evolutionary_based.GA.BaseGA [line: 348]: >Problem: P, Epoch: 362, Current best: 0.986766, Global best: 0.994024, Runtime: 0.05067 seconds\n",
      "2023/10/18 09:15:15 PM, INFO, mealpy.evolutionary_based.GA.BaseGA [line: 348]: >Problem: P, Epoch: 363, Current best: 0.986766, Global best: 0.994024, Runtime: 0.05191 seconds\n",
      "2023/10/18 09:15:15 PM, INFO, mealpy.evolutionary_based.GA.BaseGA [line: 348]: >Problem: P, Epoch: 364, Current best: 0.986766, Global best: 0.994024, Runtime: 0.04973 seconds\n",
      "2023/10/18 09:15:15 PM, INFO, mealpy.evolutionary_based.GA.BaseGA [line: 348]: >Problem: P, Epoch: 365, Current best: 0.986766, Global best: 0.994024, Runtime: 0.04900 seconds\n",
      "2023/10/18 09:15:15 PM, INFO, mealpy.evolutionary_based.GA.BaseGA [line: 348]: >Problem: P, Epoch: 366, Current best: 0.986766, Global best: 0.994024, Runtime: 0.04871 seconds\n",
      "2023/10/18 09:15:15 PM, INFO, mealpy.evolutionary_based.GA.BaseGA [line: 348]: >Problem: P, Epoch: 367, Current best: 0.994024, Global best: 0.994024, Runtime: 0.04886 seconds\n",
      "2023/10/18 09:15:15 PM, INFO, mealpy.evolutionary_based.GA.BaseGA [line: 348]: >Problem: P, Epoch: 368, Current best: 0.98708, Global best: 0.994024, Runtime: 0.04881 seconds\n",
      "2023/10/18 09:15:15 PM, INFO, mealpy.evolutionary_based.GA.BaseGA [line: 348]: >Problem: P, Epoch: 369, Current best: 0.986766, Global best: 0.994024, Runtime: 0.04935 seconds\n",
      "2023/10/18 09:15:15 PM, INFO, mealpy.evolutionary_based.GA.BaseGA [line: 348]: >Problem: P, Epoch: 370, Current best: 0.986766, Global best: 0.994024, Runtime: 0.04842 seconds\n",
      "2023/10/18 09:15:15 PM, INFO, mealpy.evolutionary_based.GA.BaseGA [line: 348]: >Problem: P, Epoch: 371, Current best: 0.986766, Global best: 0.994024, Runtime: 0.04813 seconds\n",
      "2023/10/18 09:15:15 PM, INFO, mealpy.evolutionary_based.GA.BaseGA [line: 348]: >Problem: P, Epoch: 372, Current best: 0.987401, Global best: 0.994024, Runtime: 0.04972 seconds\n",
      "2023/10/18 09:15:15 PM, INFO, mealpy.evolutionary_based.GA.BaseGA [line: 348]: >Problem: P, Epoch: 373, Current best: 0.986766, Global best: 0.994024, Runtime: 0.04988 seconds\n",
      "2023/10/18 09:15:15 PM, INFO, mealpy.evolutionary_based.GA.BaseGA [line: 348]: >Problem: P, Epoch: 374, Current best: 0.987401, Global best: 0.994024, Runtime: 0.04937 seconds\n",
      "2023/10/18 09:15:15 PM, INFO, mealpy.evolutionary_based.GA.BaseGA [line: 348]: >Problem: P, Epoch: 375, Current best: 0.986766, Global best: 0.994024, Runtime: 0.04946 seconds\n",
      "2023/10/18 09:15:15 PM, INFO, mealpy.evolutionary_based.GA.BaseGA [line: 348]: >Problem: P, Epoch: 376, Current best: 0.987401, Global best: 0.994024, Runtime: 0.04979 seconds\n"
     ]
    },
    {
     "name": "stderr",
     "output_type": "stream",
     "text": [
      "2023/10/18 09:15:15 PM, INFO, mealpy.evolutionary_based.GA.BaseGA [line: 348]: >Problem: P, Epoch: 377, Current best: 0.987352, Global best: 0.994024, Runtime: 0.04929 seconds\n",
      "2023/10/18 09:15:15 PM, INFO, mealpy.evolutionary_based.GA.BaseGA [line: 348]: >Problem: P, Epoch: 378, Current best: 0.986766, Global best: 0.994024, Runtime: 0.04938 seconds\n",
      "2023/10/18 09:15:15 PM, INFO, mealpy.evolutionary_based.GA.BaseGA [line: 348]: >Problem: P, Epoch: 379, Current best: 0.986766, Global best: 0.994024, Runtime: 0.04837 seconds\n",
      "2023/10/18 09:15:16 PM, INFO, mealpy.evolutionary_based.GA.BaseGA [line: 348]: >Problem: P, Epoch: 380, Current best: 0.986766, Global best: 0.994024, Runtime: 0.04956 seconds\n",
      "2023/10/18 09:15:16 PM, INFO, mealpy.evolutionary_based.GA.BaseGA [line: 348]: >Problem: P, Epoch: 381, Current best: 0.986766, Global best: 0.994024, Runtime: 0.05025 seconds\n",
      "2023/10/18 09:15:16 PM, INFO, mealpy.evolutionary_based.GA.BaseGA [line: 348]: >Problem: P, Epoch: 382, Current best: 0.993389, Global best: 0.994024, Runtime: 0.04931 seconds\n",
      "2023/10/18 09:15:16 PM, INFO, mealpy.evolutionary_based.GA.BaseGA [line: 348]: >Problem: P, Epoch: 383, Current best: 0.987352, Global best: 0.994024, Runtime: 0.04918 seconds\n",
      "2023/10/18 09:15:16 PM, INFO, mealpy.evolutionary_based.GA.BaseGA [line: 348]: >Problem: P, Epoch: 384, Current best: 0.986766, Global best: 0.994024, Runtime: 0.04906 seconds\n",
      "2023/10/18 09:15:16 PM, INFO, mealpy.evolutionary_based.GA.BaseGA [line: 348]: >Problem: P, Epoch: 385, Current best: 0.98708, Global best: 0.994024, Runtime: 0.04945 seconds\n",
      "2023/10/18 09:15:16 PM, INFO, mealpy.evolutionary_based.GA.BaseGA [line: 348]: >Problem: P, Epoch: 386, Current best: 0.986766, Global best: 0.994024, Runtime: 0.04911 seconds\n",
      "2023/10/18 09:15:16 PM, INFO, mealpy.evolutionary_based.GA.BaseGA [line: 348]: >Problem: P, Epoch: 387, Current best: 0.987401, Global best: 0.994024, Runtime: 0.04823 seconds\n",
      "2023/10/18 09:15:16 PM, INFO, mealpy.evolutionary_based.GA.BaseGA [line: 348]: >Problem: P, Epoch: 388, Current best: 0.993389, Global best: 0.994024, Runtime: 0.04929 seconds\n",
      "2023/10/18 09:15:16 PM, INFO, mealpy.evolutionary_based.GA.BaseGA [line: 348]: >Problem: P, Epoch: 389, Current best: 0.987401, Global best: 0.994024, Runtime: 0.04912 seconds\n",
      "2023/10/18 09:15:16 PM, INFO, mealpy.evolutionary_based.GA.BaseGA [line: 348]: >Problem: P, Epoch: 390, Current best: 0.986766, Global best: 0.994024, Runtime: 0.04872 seconds\n",
      "2023/10/18 09:15:16 PM, INFO, mealpy.evolutionary_based.GA.BaseGA [line: 348]: >Problem: P, Epoch: 391, Current best: 0.993389, Global best: 0.994024, Runtime: 0.04930 seconds\n",
      "2023/10/18 09:15:16 PM, INFO, mealpy.evolutionary_based.GA.BaseGA [line: 348]: >Problem: P, Epoch: 392, Current best: 0.993389, Global best: 0.994024, Runtime: 0.04939 seconds\n",
      "2023/10/18 09:15:16 PM, INFO, mealpy.evolutionary_based.GA.BaseGA [line: 348]: >Problem: P, Epoch: 393, Current best: 0.98708, Global best: 0.994024, Runtime: 0.04831 seconds\n",
      "2023/10/18 09:15:16 PM, INFO, mealpy.evolutionary_based.GA.BaseGA [line: 348]: >Problem: P, Epoch: 394, Current best: 0.986766, Global best: 0.994024, Runtime: 0.05378 seconds\n",
      "2023/10/18 09:15:16 PM, INFO, mealpy.evolutionary_based.GA.BaseGA [line: 348]: >Problem: P, Epoch: 395, Current best: 0.98708, Global best: 0.994024, Runtime: 0.05065 seconds\n",
      "2023/10/18 09:15:16 PM, INFO, mealpy.evolutionary_based.GA.BaseGA [line: 348]: >Problem: P, Epoch: 396, Current best: 0.994036, Global best: 0.994036, Runtime: 0.04929 seconds\n",
      "2023/10/18 09:15:16 PM, INFO, mealpy.evolutionary_based.GA.BaseGA [line: 348]: >Problem: P, Epoch: 397, Current best: 0.993376, Global best: 0.994036, Runtime: 0.04992 seconds\n",
      "2023/10/18 09:15:16 PM, INFO, mealpy.evolutionary_based.GA.BaseGA [line: 348]: >Problem: P, Epoch: 398, Current best: 0.98708, Global best: 0.994036, Runtime: 0.04934 seconds\n",
      "2023/10/18 09:15:16 PM, INFO, mealpy.evolutionary_based.GA.BaseGA [line: 348]: >Problem: P, Epoch: 399, Current best: 0.986766, Global best: 0.994036, Runtime: 0.04797 seconds\n",
      "2023/10/18 09:15:17 PM, INFO, mealpy.evolutionary_based.GA.BaseGA [line: 348]: >Problem: P, Epoch: 400, Current best: 0.986766, Global best: 0.994036, Runtime: 0.05074 seconds\n",
      "2023/10/18 09:15:17 PM, INFO, mealpy.evolutionary_based.GA.BaseGA [line: 348]: >Problem: P, Epoch: 401, Current best: 0.993389, Global best: 0.994036, Runtime: 0.05021 seconds\n",
      "2023/10/18 09:15:17 PM, INFO, mealpy.evolutionary_based.GA.BaseGA [line: 348]: >Problem: P, Epoch: 402, Current best: 0.98708, Global best: 0.994036, Runtime: 0.04850 seconds\n",
      "2023/10/18 09:15:17 PM, INFO, mealpy.evolutionary_based.GA.BaseGA [line: 348]: >Problem: P, Epoch: 403, Current best: 0.986766, Global best: 0.994036, Runtime: 0.04949 seconds\n",
      "2023/10/18 09:15:17 PM, INFO, mealpy.evolutionary_based.GA.BaseGA [line: 348]: >Problem: P, Epoch: 404, Current best: 0.986766, Global best: 0.994036, Runtime: 0.04872 seconds\n",
      "2023/10/18 09:15:17 PM, INFO, mealpy.evolutionary_based.GA.BaseGA [line: 348]: >Problem: P, Epoch: 405, Current best: 0.986766, Global best: 0.994036, Runtime: 0.05318 seconds\n",
      "2023/10/18 09:15:17 PM, INFO, mealpy.evolutionary_based.GA.BaseGA [line: 348]: >Problem: P, Epoch: 406, Current best: 0.986766, Global best: 0.994036, Runtime: 0.05670 seconds\n",
      "2023/10/18 09:15:17 PM, INFO, mealpy.evolutionary_based.GA.BaseGA [line: 348]: >Problem: P, Epoch: 407, Current best: 0.986766, Global best: 0.994036, Runtime: 0.05796 seconds\n",
      "2023/10/18 09:15:17 PM, INFO, mealpy.evolutionary_based.GA.BaseGA [line: 348]: >Problem: P, Epoch: 408, Current best: 0.986766, Global best: 0.994036, Runtime: 0.05601 seconds\n",
      "2023/10/18 09:15:17 PM, INFO, mealpy.evolutionary_based.GA.BaseGA [line: 348]: >Problem: P, Epoch: 409, Current best: 0.98708, Global best: 0.994036, Runtime: 0.05827 seconds\n",
      "2023/10/18 09:15:17 PM, INFO, mealpy.evolutionary_based.GA.BaseGA [line: 348]: >Problem: P, Epoch: 410, Current best: 0.987352, Global best: 0.994036, Runtime: 0.05378 seconds\n",
      "2023/10/18 09:15:17 PM, INFO, mealpy.evolutionary_based.GA.BaseGA [line: 348]: >Problem: P, Epoch: 411, Current best: 0.986766, Global best: 0.994036, Runtime: 0.06005 seconds\n",
      "2023/10/18 09:15:17 PM, INFO, mealpy.evolutionary_based.GA.BaseGA [line: 348]: >Problem: P, Epoch: 412, Current best: 0.986766, Global best: 0.994036, Runtime: 0.05986 seconds\n",
      "2023/10/18 09:15:17 PM, INFO, mealpy.evolutionary_based.GA.BaseGA [line: 348]: >Problem: P, Epoch: 413, Current best: 0.980731, Global best: 0.994036, Runtime: 0.06048 seconds\n",
      "2023/10/18 09:15:17 PM, INFO, mealpy.evolutionary_based.GA.BaseGA [line: 348]: >Problem: P, Epoch: 414, Current best: 0.986766, Global best: 0.994036, Runtime: 0.05971 seconds\n",
      "2023/10/18 09:15:17 PM, INFO, mealpy.evolutionary_based.GA.BaseGA [line: 348]: >Problem: P, Epoch: 415, Current best: 0.986766, Global best: 0.994036, Runtime: 0.06083 seconds\n",
      "2023/10/18 09:15:17 PM, INFO, mealpy.evolutionary_based.GA.BaseGA [line: 348]: >Problem: P, Epoch: 416, Current best: 0.986766, Global best: 0.994036, Runtime: 0.05766 seconds\n",
      "2023/10/18 09:15:18 PM, INFO, mealpy.evolutionary_based.GA.BaseGA [line: 348]: >Problem: P, Epoch: 417, Current best: 0.986766, Global best: 0.994036, Runtime: 0.05420 seconds\n",
      "2023/10/18 09:15:18 PM, INFO, mealpy.evolutionary_based.GA.BaseGA [line: 348]: >Problem: P, Epoch: 418, Current best: 0.986766, Global best: 0.994036, Runtime: 0.05686 seconds\n",
      "2023/10/18 09:15:18 PM, INFO, mealpy.evolutionary_based.GA.BaseGA [line: 348]: >Problem: P, Epoch: 419, Current best: 0.993389, Global best: 0.994036, Runtime: 0.05232 seconds\n",
      "2023/10/18 09:15:18 PM, INFO, mealpy.evolutionary_based.GA.BaseGA [line: 348]: >Problem: P, Epoch: 420, Current best: 0.993389, Global best: 0.994036, Runtime: 0.05326 seconds\n",
      "2023/10/18 09:15:18 PM, INFO, mealpy.evolutionary_based.GA.BaseGA [line: 348]: >Problem: P, Epoch: 421, Current best: 0.986766, Global best: 0.994036, Runtime: 0.04998 seconds\n",
      "2023/10/18 09:15:18 PM, INFO, mealpy.evolutionary_based.GA.BaseGA [line: 348]: >Problem: P, Epoch: 422, Current best: 0.980731, Global best: 0.994036, Runtime: 0.05065 seconds\n",
      "2023/10/18 09:15:18 PM, INFO, mealpy.evolutionary_based.GA.BaseGA [line: 348]: >Problem: P, Epoch: 423, Current best: 0.986766, Global best: 0.994036, Runtime: 0.05061 seconds\n"
     ]
    },
    {
     "name": "stderr",
     "output_type": "stream",
     "text": [
      "2023/10/18 09:15:18 PM, INFO, mealpy.evolutionary_based.GA.BaseGA [line: 348]: >Problem: P, Epoch: 424, Current best: 0.986766, Global best: 0.994036, Runtime: 0.05246 seconds\n",
      "2023/10/18 09:15:18 PM, INFO, mealpy.evolutionary_based.GA.BaseGA [line: 348]: >Problem: P, Epoch: 425, Current best: 0.986766, Global best: 0.994036, Runtime: 0.05008 seconds\n",
      "2023/10/18 09:15:18 PM, INFO, mealpy.evolutionary_based.GA.BaseGA [line: 348]: >Problem: P, Epoch: 426, Current best: 0.986766, Global best: 0.994036, Runtime: 0.04974 seconds\n",
      "2023/10/18 09:15:18 PM, INFO, mealpy.evolutionary_based.GA.BaseGA [line: 348]: >Problem: P, Epoch: 427, Current best: 0.986766, Global best: 0.994036, Runtime: 0.04951 seconds\n",
      "2023/10/18 09:15:18 PM, INFO, mealpy.evolutionary_based.GA.BaseGA [line: 348]: >Problem: P, Epoch: 428, Current best: 0.986766, Global best: 0.994036, Runtime: 0.05127 seconds\n",
      "2023/10/18 09:15:18 PM, INFO, mealpy.evolutionary_based.GA.BaseGA [line: 348]: >Problem: P, Epoch: 429, Current best: 0.986766, Global best: 0.994036, Runtime: 0.05049 seconds\n",
      "2023/10/18 09:15:18 PM, INFO, mealpy.evolutionary_based.GA.BaseGA [line: 348]: >Problem: P, Epoch: 430, Current best: 0.986766, Global best: 0.994036, Runtime: 0.05205 seconds\n",
      "2023/10/18 09:15:18 PM, INFO, mealpy.evolutionary_based.GA.BaseGA [line: 348]: >Problem: P, Epoch: 431, Current best: 0.986766, Global best: 0.994036, Runtime: 0.05094 seconds\n",
      "2023/10/18 09:15:18 PM, INFO, mealpy.evolutionary_based.GA.BaseGA [line: 348]: >Problem: P, Epoch: 432, Current best: 0.987352, Global best: 0.994036, Runtime: 0.05083 seconds\n",
      "2023/10/18 09:15:18 PM, INFO, mealpy.evolutionary_based.GA.BaseGA [line: 348]: >Problem: P, Epoch: 433, Current best: 0.986766, Global best: 0.994036, Runtime: 0.04917 seconds\n",
      "2023/10/18 09:15:18 PM, INFO, mealpy.evolutionary_based.GA.BaseGA [line: 348]: >Problem: P, Epoch: 434, Current best: 0.987352, Global best: 0.994036, Runtime: 0.05073 seconds\n",
      "2023/10/18 09:15:18 PM, INFO, mealpy.evolutionary_based.GA.BaseGA [line: 348]: >Problem: P, Epoch: 435, Current best: 0.98708, Global best: 0.994036, Runtime: 0.05189 seconds\n",
      "2023/10/18 09:15:19 PM, INFO, mealpy.evolutionary_based.GA.BaseGA [line: 348]: >Problem: P, Epoch: 436, Current best: 0.986766, Global best: 0.994036, Runtime: 0.05323 seconds\n",
      "2023/10/18 09:15:19 PM, INFO, mealpy.evolutionary_based.GA.BaseGA [line: 348]: >Problem: P, Epoch: 437, Current best: 0.986766, Global best: 0.994036, Runtime: 0.05652 seconds\n",
      "2023/10/18 09:15:19 PM, INFO, mealpy.evolutionary_based.GA.BaseGA [line: 348]: >Problem: P, Epoch: 438, Current best: 0.986766, Global best: 0.994036, Runtime: 0.05841 seconds\n",
      "2023/10/18 09:15:19 PM, INFO, mealpy.evolutionary_based.GA.BaseGA [line: 348]: >Problem: P, Epoch: 439, Current best: 0.986766, Global best: 0.994036, Runtime: 0.05213 seconds\n",
      "2023/10/18 09:15:19 PM, INFO, mealpy.evolutionary_based.GA.BaseGA [line: 348]: >Problem: P, Epoch: 440, Current best: 0.987352, Global best: 0.994036, Runtime: 0.05119 seconds\n",
      "2023/10/18 09:15:19 PM, INFO, mealpy.evolutionary_based.GA.BaseGA [line: 348]: >Problem: P, Epoch: 441, Current best: 0.986766, Global best: 0.994036, Runtime: 0.05054 seconds\n",
      "2023/10/18 09:15:19 PM, INFO, mealpy.evolutionary_based.GA.BaseGA [line: 348]: >Problem: P, Epoch: 442, Current best: 0.986766, Global best: 0.994036, Runtime: 0.04933 seconds\n",
      "2023/10/18 09:15:19 PM, INFO, mealpy.evolutionary_based.GA.BaseGA [line: 348]: >Problem: P, Epoch: 443, Current best: 0.986766, Global best: 0.994036, Runtime: 0.05501 seconds\n",
      "2023/10/18 09:15:19 PM, INFO, mealpy.evolutionary_based.GA.BaseGA [line: 348]: >Problem: P, Epoch: 444, Current best: 0.986766, Global best: 0.994036, Runtime: 0.05525 seconds\n",
      "2023/10/18 09:15:19 PM, INFO, mealpy.evolutionary_based.GA.BaseGA [line: 348]: >Problem: P, Epoch: 445, Current best: 0.980861, Global best: 0.994036, Runtime: 0.05406 seconds\n",
      "2023/10/18 09:15:19 PM, INFO, mealpy.evolutionary_based.GA.BaseGA [line: 348]: >Problem: P, Epoch: 446, Current best: 0.986766, Global best: 0.994036, Runtime: 0.05766 seconds\n",
      "2023/10/18 09:15:19 PM, INFO, mealpy.evolutionary_based.GA.BaseGA [line: 348]: >Problem: P, Epoch: 447, Current best: 0.986766, Global best: 0.994036, Runtime: 0.05180 seconds\n",
      "2023/10/18 09:15:19 PM, INFO, mealpy.evolutionary_based.GA.BaseGA [line: 348]: >Problem: P, Epoch: 448, Current best: 0.986766, Global best: 0.994036, Runtime: 0.05078 seconds\n",
      "2023/10/18 09:15:19 PM, INFO, mealpy.evolutionary_based.GA.BaseGA [line: 348]: >Problem: P, Epoch: 449, Current best: 0.986766, Global best: 0.994036, Runtime: 0.05063 seconds\n",
      "2023/10/18 09:15:19 PM, INFO, mealpy.evolutionary_based.GA.BaseGA [line: 348]: >Problem: P, Epoch: 450, Current best: 0.986766, Global best: 0.994036, Runtime: 0.05137 seconds\n",
      "2023/10/18 09:15:19 PM, INFO, mealpy.evolutionary_based.GA.BaseGA [line: 348]: >Problem: P, Epoch: 451, Current best: 0.986766, Global best: 0.994036, Runtime: 0.05506 seconds\n",
      "2023/10/18 09:15:19 PM, INFO, mealpy.evolutionary_based.GA.BaseGA [line: 348]: >Problem: P, Epoch: 452, Current best: 0.986766, Global best: 0.994036, Runtime: 0.05451 seconds\n",
      "2023/10/18 09:15:19 PM, INFO, mealpy.evolutionary_based.GA.BaseGA [line: 348]: >Problem: P, Epoch: 453, Current best: 0.986766, Global best: 0.994036, Runtime: 0.05829 seconds\n",
      "2023/10/18 09:15:19 PM, INFO, mealpy.evolutionary_based.GA.BaseGA [line: 348]: >Problem: P, Epoch: 454, Current best: 0.986766, Global best: 0.994036, Runtime: 0.05505 seconds\n",
      "2023/10/18 09:15:20 PM, INFO, mealpy.evolutionary_based.GA.BaseGA [line: 348]: >Problem: P, Epoch: 455, Current best: 0.986766, Global best: 0.994036, Runtime: 0.05359 seconds\n",
      "2023/10/18 09:15:20 PM, INFO, mealpy.evolutionary_based.GA.BaseGA [line: 348]: >Problem: P, Epoch: 456, Current best: 0.986766, Global best: 0.994036, Runtime: 0.05097 seconds\n",
      "2023/10/18 09:15:20 PM, INFO, mealpy.evolutionary_based.GA.BaseGA [line: 348]: >Problem: P, Epoch: 457, Current best: 0.986766, Global best: 0.994036, Runtime: 0.05032 seconds\n",
      "2023/10/18 09:15:20 PM, INFO, mealpy.evolutionary_based.GA.BaseGA [line: 348]: >Problem: P, Epoch: 458, Current best: 0.986766, Global best: 0.994036, Runtime: 0.05018 seconds\n",
      "2023/10/18 09:15:20 PM, INFO, mealpy.evolutionary_based.GA.BaseGA [line: 348]: >Problem: P, Epoch: 459, Current best: 0.986766, Global best: 0.994036, Runtime: 0.04925 seconds\n",
      "2023/10/18 09:15:20 PM, INFO, mealpy.evolutionary_based.GA.BaseGA [line: 348]: >Problem: P, Epoch: 460, Current best: 0.993389, Global best: 0.994036, Runtime: 0.05188 seconds\n",
      "2023/10/18 09:15:20 PM, INFO, mealpy.evolutionary_based.GA.BaseGA [line: 348]: >Problem: P, Epoch: 461, Current best: 0.986766, Global best: 0.994036, Runtime: 0.05019 seconds\n",
      "2023/10/18 09:15:20 PM, INFO, mealpy.evolutionary_based.GA.BaseGA [line: 348]: >Problem: P, Epoch: 462, Current best: 0.986766, Global best: 0.994036, Runtime: 0.05200 seconds\n",
      "2023/10/18 09:15:20 PM, INFO, mealpy.evolutionary_based.GA.BaseGA [line: 348]: >Problem: P, Epoch: 463, Current best: 0.986766, Global best: 0.994036, Runtime: 0.05018 seconds\n",
      "2023/10/18 09:15:20 PM, INFO, mealpy.evolutionary_based.GA.BaseGA [line: 348]: >Problem: P, Epoch: 464, Current best: 0.986766, Global best: 0.994036, Runtime: 0.04992 seconds\n",
      "2023/10/18 09:15:20 PM, INFO, mealpy.evolutionary_based.GA.BaseGA [line: 348]: >Problem: P, Epoch: 465, Current best: 0.986766, Global best: 0.994036, Runtime: 0.04944 seconds\n",
      "2023/10/18 09:15:20 PM, INFO, mealpy.evolutionary_based.GA.BaseGA [line: 348]: >Problem: P, Epoch: 466, Current best: 0.986766, Global best: 0.994036, Runtime: 0.04922 seconds\n",
      "2023/10/18 09:15:20 PM, INFO, mealpy.evolutionary_based.GA.BaseGA [line: 348]: >Problem: P, Epoch: 467, Current best: 0.986766, Global best: 0.994036, Runtime: 0.04993 seconds\n",
      "2023/10/18 09:15:20 PM, INFO, mealpy.evolutionary_based.GA.BaseGA [line: 348]: >Problem: P, Epoch: 468, Current best: 0.98708, Global best: 0.994036, Runtime: 0.05077 seconds\n",
      "2023/10/18 09:15:20 PM, INFO, mealpy.evolutionary_based.GA.BaseGA [line: 348]: >Problem: P, Epoch: 469, Current best: 0.986766, Global best: 0.994036, Runtime: 0.05323 seconds\n",
      "2023/10/18 09:15:20 PM, INFO, mealpy.evolutionary_based.GA.BaseGA [line: 348]: >Problem: P, Epoch: 470, Current best: 0.986766, Global best: 0.994036, Runtime: 0.05213 seconds\n"
     ]
    },
    {
     "name": "stderr",
     "output_type": "stream",
     "text": [
      "2023/10/18 09:15:20 PM, INFO, mealpy.evolutionary_based.GA.BaseGA [line: 348]: >Problem: P, Epoch: 471, Current best: 0.987174, Global best: 0.994036, Runtime: 0.05272 seconds\n",
      "2023/10/18 09:15:20 PM, INFO, mealpy.evolutionary_based.GA.BaseGA [line: 348]: >Problem: P, Epoch: 472, Current best: 0.986766, Global best: 0.994036, Runtime: 0.05286 seconds\n",
      "2023/10/18 09:15:20 PM, INFO, mealpy.evolutionary_based.GA.BaseGA [line: 348]: >Problem: P, Epoch: 473, Current best: 0.98109, Global best: 0.994036, Runtime: 0.05164 seconds\n",
      "2023/10/18 09:15:21 PM, INFO, mealpy.evolutionary_based.GA.BaseGA [line: 348]: >Problem: P, Epoch: 474, Current best: 0.986766, Global best: 0.994036, Runtime: 0.05076 seconds\n",
      "2023/10/18 09:15:21 PM, INFO, mealpy.evolutionary_based.GA.BaseGA [line: 348]: >Problem: P, Epoch: 475, Current best: 0.986766, Global best: 0.994036, Runtime: 0.05054 seconds\n",
      "2023/10/18 09:15:21 PM, INFO, mealpy.evolutionary_based.GA.BaseGA [line: 348]: >Problem: P, Epoch: 476, Current best: 0.986766, Global best: 0.994036, Runtime: 0.05054 seconds\n",
      "2023/10/18 09:15:21 PM, INFO, mealpy.evolutionary_based.GA.BaseGA [line: 348]: >Problem: P, Epoch: 477, Current best: 0.986766, Global best: 0.994036, Runtime: 0.04974 seconds\n",
      "2023/10/18 09:15:21 PM, INFO, mealpy.evolutionary_based.GA.BaseGA [line: 348]: >Problem: P, Epoch: 478, Current best: 0.986766, Global best: 0.994036, Runtime: 0.04929 seconds\n",
      "2023/10/18 09:15:21 PM, INFO, mealpy.evolutionary_based.GA.BaseGA [line: 348]: >Problem: P, Epoch: 479, Current best: 0.986766, Global best: 0.994036, Runtime: 0.04919 seconds\n",
      "2023/10/18 09:15:21 PM, INFO, mealpy.evolutionary_based.GA.BaseGA [line: 348]: >Problem: P, Epoch: 480, Current best: 0.986766, Global best: 0.994036, Runtime: 0.04810 seconds\n",
      "2023/10/18 09:15:21 PM, INFO, mealpy.evolutionary_based.GA.BaseGA [line: 348]: >Problem: P, Epoch: 481, Current best: 0.986766, Global best: 0.994036, Runtime: 0.04974 seconds\n",
      "2023/10/18 09:15:21 PM, INFO, mealpy.evolutionary_based.GA.BaseGA [line: 348]: >Problem: P, Epoch: 482, Current best: 0.980731, Global best: 0.994036, Runtime: 0.04880 seconds\n",
      "2023/10/18 09:15:21 PM, INFO, mealpy.evolutionary_based.GA.BaseGA [line: 348]: >Problem: P, Epoch: 483, Current best: 0.98109, Global best: 0.994036, Runtime: 0.04939 seconds\n",
      "2023/10/18 09:15:21 PM, INFO, mealpy.evolutionary_based.GA.BaseGA [line: 348]: >Problem: P, Epoch: 484, Current best: 0.980744, Global best: 0.994036, Runtime: 0.04948 seconds\n",
      "2023/10/18 09:15:21 PM, INFO, mealpy.evolutionary_based.GA.BaseGA [line: 348]: >Problem: P, Epoch: 485, Current best: 0.98109, Global best: 0.994036, Runtime: 0.04945 seconds\n",
      "2023/10/18 09:15:21 PM, INFO, mealpy.evolutionary_based.GA.BaseGA [line: 348]: >Problem: P, Epoch: 486, Current best: 0.986766, Global best: 0.994036, Runtime: 0.04867 seconds\n",
      "2023/10/18 09:15:21 PM, INFO, mealpy.evolutionary_based.GA.BaseGA [line: 348]: >Problem: P, Epoch: 487, Current best: 0.986766, Global best: 0.994036, Runtime: 0.05049 seconds\n",
      "2023/10/18 09:15:21 PM, INFO, mealpy.evolutionary_based.GA.BaseGA [line: 348]: >Problem: P, Epoch: 488, Current best: 0.980861, Global best: 0.994036, Runtime: 0.04946 seconds\n",
      "2023/10/18 09:15:21 PM, INFO, mealpy.evolutionary_based.GA.BaseGA [line: 348]: >Problem: P, Epoch: 489, Current best: 0.98109, Global best: 0.994036, Runtime: 0.04861 seconds\n",
      "2023/10/18 09:15:21 PM, INFO, mealpy.evolutionary_based.GA.BaseGA [line: 348]: >Problem: P, Epoch: 490, Current best: 0.98109, Global best: 0.994036, Runtime: 0.04887 seconds\n",
      "2023/10/18 09:15:21 PM, INFO, mealpy.evolutionary_based.GA.BaseGA [line: 348]: >Problem: P, Epoch: 491, Current best: 0.986766, Global best: 0.994036, Runtime: 0.04977 seconds\n",
      "2023/10/18 09:15:21 PM, INFO, mealpy.evolutionary_based.GA.BaseGA [line: 348]: >Problem: P, Epoch: 492, Current best: 0.980861, Global best: 0.994036, Runtime: 0.05046 seconds\n",
      "2023/10/18 09:15:21 PM, INFO, mealpy.evolutionary_based.GA.BaseGA [line: 348]: >Problem: P, Epoch: 493, Current best: 0.980731, Global best: 0.994036, Runtime: 0.04920 seconds\n",
      "2023/10/18 09:15:22 PM, INFO, mealpy.evolutionary_based.GA.BaseGA [line: 348]: >Problem: P, Epoch: 494, Current best: 0.980861, Global best: 0.994036, Runtime: 0.04897 seconds\n",
      "2023/10/18 09:15:22 PM, INFO, mealpy.evolutionary_based.GA.BaseGA [line: 348]: >Problem: P, Epoch: 495, Current best: 0.980731, Global best: 0.994036, Runtime: 0.05133 seconds\n",
      "2023/10/18 09:15:22 PM, INFO, mealpy.evolutionary_based.GA.BaseGA [line: 348]: >Problem: P, Epoch: 496, Current best: 0.986766, Global best: 0.994036, Runtime: 0.04958 seconds\n",
      "2023/10/18 09:15:22 PM, INFO, mealpy.evolutionary_based.GA.BaseGA [line: 348]: >Problem: P, Epoch: 497, Current best: 0.986766, Global best: 0.994036, Runtime: 0.04987 seconds\n",
      "2023/10/18 09:15:22 PM, INFO, mealpy.evolutionary_based.GA.BaseGA [line: 348]: >Problem: P, Epoch: 498, Current best: 0.980861, Global best: 0.994036, Runtime: 0.04960 seconds\n",
      "2023/10/18 09:15:22 PM, INFO, mealpy.evolutionary_based.GA.BaseGA [line: 348]: >Problem: P, Epoch: 499, Current best: 0.98109, Global best: 0.994036, Runtime: 0.05014 seconds\n",
      "2023/10/18 09:15:22 PM, INFO, mealpy.evolutionary_based.GA.BaseGA [line: 348]: >Problem: P, Epoch: 500, Current best: 0.98109, Global best: 0.994036, Runtime: 0.05043 seconds\n"
     ]
    },
    {
     "data": {
      "text/html": [
       "<style>#sk-container-id-7 {color: black;background-color: white;}#sk-container-id-7 pre{padding: 0;}#sk-container-id-7 div.sk-toggleable {background-color: white;}#sk-container-id-7 label.sk-toggleable__label {cursor: pointer;display: block;width: 100%;margin-bottom: 0;padding: 0.3em;box-sizing: border-box;text-align: center;}#sk-container-id-7 label.sk-toggleable__label-arrow:before {content: \"▸\";float: left;margin-right: 0.25em;color: #696969;}#sk-container-id-7 label.sk-toggleable__label-arrow:hover:before {color: black;}#sk-container-id-7 div.sk-estimator:hover label.sk-toggleable__label-arrow:before {color: black;}#sk-container-id-7 div.sk-toggleable__content {max-height: 0;max-width: 0;overflow: hidden;text-align: left;background-color: #f0f8ff;}#sk-container-id-7 div.sk-toggleable__content pre {margin: 0.2em;color: black;border-radius: 0.25em;background-color: #f0f8ff;}#sk-container-id-7 input.sk-toggleable__control:checked~div.sk-toggleable__content {max-height: 200px;max-width: 100%;overflow: auto;}#sk-container-id-7 input.sk-toggleable__control:checked~label.sk-toggleable__label-arrow:before {content: \"▾\";}#sk-container-id-7 div.sk-estimator input.sk-toggleable__control:checked~label.sk-toggleable__label {background-color: #d4ebff;}#sk-container-id-7 div.sk-label input.sk-toggleable__control:checked~label.sk-toggleable__label {background-color: #d4ebff;}#sk-container-id-7 input.sk-hidden--visually {border: 0;clip: rect(1px 1px 1px 1px);clip: rect(1px, 1px, 1px, 1px);height: 1px;margin: -1px;overflow: hidden;padding: 0;position: absolute;width: 1px;}#sk-container-id-7 div.sk-estimator {font-family: monospace;background-color: #f0f8ff;border: 1px dotted black;border-radius: 0.25em;box-sizing: border-box;margin-bottom: 0.5em;}#sk-container-id-7 div.sk-estimator:hover {background-color: #d4ebff;}#sk-container-id-7 div.sk-parallel-item::after {content: \"\";width: 100%;border-bottom: 1px solid gray;flex-grow: 1;}#sk-container-id-7 div.sk-label:hover label.sk-toggleable__label {background-color: #d4ebff;}#sk-container-id-7 div.sk-serial::before {content: \"\";position: absolute;border-left: 1px solid gray;box-sizing: border-box;top: 0;bottom: 0;left: 50%;z-index: 0;}#sk-container-id-7 div.sk-serial {display: flex;flex-direction: column;align-items: center;background-color: white;padding-right: 0.2em;padding-left: 0.2em;position: relative;}#sk-container-id-7 div.sk-item {position: relative;z-index: 1;}#sk-container-id-7 div.sk-parallel {display: flex;align-items: stretch;justify-content: center;background-color: white;position: relative;}#sk-container-id-7 div.sk-item::before, #sk-container-id-7 div.sk-parallel-item::before {content: \"\";position: absolute;border-left: 1px solid gray;box-sizing: border-box;top: 0;bottom: 0;left: 50%;z-index: -1;}#sk-container-id-7 div.sk-parallel-item {display: flex;flex-direction: column;z-index: 1;position: relative;background-color: white;}#sk-container-id-7 div.sk-parallel-item:first-child::after {align-self: flex-end;width: 50%;}#sk-container-id-7 div.sk-parallel-item:last-child::after {align-self: flex-start;width: 50%;}#sk-container-id-7 div.sk-parallel-item:only-child::after {width: 0;}#sk-container-id-7 div.sk-dashed-wrapped {border: 1px dashed gray;margin: 0 0.4em 0.5em 0.4em;box-sizing: border-box;padding-bottom: 0.4em;background-color: white;}#sk-container-id-7 div.sk-label label {font-family: monospace;font-weight: bold;display: inline-block;line-height: 1.2em;}#sk-container-id-7 div.sk-label-container {text-align: center;}#sk-container-id-7 div.sk-container {/* jupyter's `normalize.less` sets `[hidden] { display: none; }` but bootstrap.min.css set `[hidden] { display: none !important; }` so we also need the `!important` here to be able to override the default hidden behavior on the sphinx rendered scikit-learn.org. See: https://github.com/scikit-learn/scikit-learn/issues/21755 */display: inline-block !important;position: relative;}#sk-container-id-7 div.sk-text-repr-fallback {display: none;}</style><div id=\"sk-container-id-7\" class=\"sk-top-container\"><div class=\"sk-text-repr-fallback\"><pre>MhaElmClassifier(hidden_size=20, obj_name=&#x27;F1S&#x27;,\n",
       "                 optimizer=&lt;mealpy.evolutionary_based.GA.BaseGA object at 0x0000027BA6921550&gt;,\n",
       "                 optimizer_paras={&#x27;epoch&#x27;: 500, &#x27;name&#x27;: &#x27;GA&#x27;, &#x27;pop_size&#x27;: 30},\n",
       "                 verbose=True)</pre><b>In a Jupyter environment, please rerun this cell to show the HTML representation or trust the notebook. <br />On GitHub, the HTML representation is unable to render, please try loading this page with nbviewer.org.</b></div><div class=\"sk-container\" hidden><div class=\"sk-item\"><div class=\"sk-estimator sk-toggleable\"><input class=\"sk-toggleable__control sk-hidden--visually\" id=\"sk-estimator-id-7\" type=\"checkbox\" checked><label for=\"sk-estimator-id-7\" class=\"sk-toggleable__label sk-toggleable__label-arrow\">MhaElmClassifier</label><div class=\"sk-toggleable__content\"><pre>MhaElmClassifier(hidden_size=20, obj_name=&#x27;F1S&#x27;,\n",
       "                 optimizer=&lt;mealpy.evolutionary_based.GA.BaseGA object at 0x0000027BA6921550&gt;,\n",
       "                 optimizer_paras={&#x27;epoch&#x27;: 500, &#x27;name&#x27;: &#x27;GA&#x27;, &#x27;pop_size&#x27;: 30},\n",
       "                 verbose=True)</pre></div></div></div></div></div>"
      ],
      "text/plain": [
       "MhaElmClassifier(hidden_size=20, obj_name='F1S',\n",
       "                 optimizer=<mealpy.evolutionary_based.GA.BaseGA object at 0x0000027BA6921550>,\n",
       "                 optimizer_paras={'epoch': 500, 'name': 'GA', 'pop_size': 30},\n",
       "                 verbose=True)"
      ]
     },
     "execution_count": 33,
     "metadata": {},
     "output_type": "execute_result"
    }
   ],
   "source": [
    "opt_paras = {\"name\": \"GA\", \"epoch\": 500, \"pop_size\": 30}\n",
    "model = MhaElmClassifier(hidden_size=20, act_name=\"elu\", obj_name=\"F1S\", optimizer=\"BaseGA\", optimizer_paras=opt_paras, verbose=True)\n",
    "model.fit(data.X_train, data.y_train)"
   ]
  },
  {
   "cell_type": "code",
   "execution_count": 34,
   "metadata": {},
   "outputs": [
    {
     "name": "stdout",
     "output_type": "stream",
     "text": [
      "Try my evaluate functions\n",
      "{'AS': 0.96747967, 'F1S': 0.94405594, 'PS': 0.94405594, 'RS': 0.94405594}\n"
     ]
    }
   ],
   "source": [
    "y_pred_cls = model.predict(data.X_test)\n",
    "print(\"Try my evaluate functions\")\n",
    "print(model.evaluate(data.y_test, y_pred_cls, list_metrics=(\"AS\", \"F1S\", \"PS\", \"RS\")))"
   ]
  },
  {
   "cell_type": "markdown",
   "metadata": {},
   "source": [
    "## Wow, amazing results. lol"
   ]
  },
  {
   "cell_type": "code",
   "execution_count": null,
   "metadata": {},
   "outputs": [],
   "source": []
  }
 ],
 "metadata": {
  "kernelspec": {
   "display_name": "Python 3 (ipykernel)",
   "language": "python",
   "name": "python3"
  },
  "language_info": {
   "codemirror_mode": {
    "name": "ipython",
    "version": 3
   },
   "file_extension": ".py",
   "mimetype": "text/x-python",
   "name": "python",
   "nbconvert_exporter": "python",
   "pygments_lexer": "ipython3",
   "version": "3.8.5"
  }
 },
 "nbformat": 4,
 "nbformat_minor": 1
}